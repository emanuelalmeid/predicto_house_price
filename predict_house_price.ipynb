{
  "nbformat": 4,
  "nbformat_minor": 0,
  "metadata": {
    "colab": {
      "provenance": []
    },
    "kernelspec": {
      "name": "python3",
      "display_name": "Python 3"
    },
    "language_info": {
      "name": "python"
    }
  },
  "cells": [
    {
      "cell_type": "code",
      "execution_count": 31,
      "metadata": {
        "id": "SwO0QFZ6Ushk"
      },
      "outputs": [],
      "source": [
        "import pandas as pd\n",
        "import matplotlib.pyplot as plt\n",
        "import seaborn as sns"
      ]
    },
    {
      "cell_type": "code",
      "source": [
        "df = pd.read_csv(\"/content/drive/MyDrive/FIA - DATA ENGINEER /BASES/projeto-ia-datasets/house-prices-train.csv\")"
      ],
      "metadata": {
        "id": "qb-R5Ot-VNQC"
      },
      "execution_count": 2,
      "outputs": []
    },
    {
      "cell_type": "code",
      "source": [
        "df.shape"
      ],
      "metadata": {
        "colab": {
          "base_uri": "https://localhost:8080/"
        },
        "id": "CRAMNnZ1VQJ6",
        "outputId": "ad8efc93-d437-40ac-8fd9-27d4a5245727"
      },
      "execution_count": 3,
      "outputs": [
        {
          "output_type": "execute_result",
          "data": {
            "text/plain": [
              "(1460, 81)"
            ]
          },
          "metadata": {},
          "execution_count": 3
        }
      ]
    },
    {
      "cell_type": "code",
      "source": [
        "df.head()"
      ],
      "metadata": {
        "colab": {
          "base_uri": "https://localhost:8080/",
          "height": 255
        },
        "id": "WCP0bHUDVR7I",
        "outputId": "1a391596-688c-4ed5-de5c-b87d6b8c9395"
      },
      "execution_count": 4,
      "outputs": [
        {
          "output_type": "execute_result",
          "data": {
            "text/plain": [
              "   Id  MSSubClass MSZoning  LotFrontage  LotArea Street Alley LotShape  \\\n",
              "0   1          60       RL         65.0     8450   Pave   NaN      Reg   \n",
              "1   2          20       RL         80.0     9600   Pave   NaN      Reg   \n",
              "2   3          60       RL         68.0    11250   Pave   NaN      IR1   \n",
              "3   4          70       RL         60.0     9550   Pave   NaN      IR1   \n",
              "4   5          60       RL         84.0    14260   Pave   NaN      IR1   \n",
              "\n",
              "  LandContour Utilities  ... PoolArea PoolQC Fence MiscFeature MiscVal MoSold  \\\n",
              "0         Lvl    AllPub  ...        0    NaN   NaN         NaN       0      2   \n",
              "1         Lvl    AllPub  ...        0    NaN   NaN         NaN       0      5   \n",
              "2         Lvl    AllPub  ...        0    NaN   NaN         NaN       0      9   \n",
              "3         Lvl    AllPub  ...        0    NaN   NaN         NaN       0      2   \n",
              "4         Lvl    AllPub  ...        0    NaN   NaN         NaN       0     12   \n",
              "\n",
              "  YrSold  SaleType  SaleCondition  SalePrice  \n",
              "0   2008        WD         Normal     208500  \n",
              "1   2007        WD         Normal     181500  \n",
              "2   2008        WD         Normal     223500  \n",
              "3   2006        WD        Abnorml     140000  \n",
              "4   2008        WD         Normal     250000  \n",
              "\n",
              "[5 rows x 81 columns]"
            ],
            "text/html": [
              "\n",
              "  <div id=\"df-fac3cd6e-e7cc-4d85-85fd-6d8f840abdad\" class=\"colab-df-container\">\n",
              "    <div>\n",
              "<style scoped>\n",
              "    .dataframe tbody tr th:only-of-type {\n",
              "        vertical-align: middle;\n",
              "    }\n",
              "\n",
              "    .dataframe tbody tr th {\n",
              "        vertical-align: top;\n",
              "    }\n",
              "\n",
              "    .dataframe thead th {\n",
              "        text-align: right;\n",
              "    }\n",
              "</style>\n",
              "<table border=\"1\" class=\"dataframe\">\n",
              "  <thead>\n",
              "    <tr style=\"text-align: right;\">\n",
              "      <th></th>\n",
              "      <th>Id</th>\n",
              "      <th>MSSubClass</th>\n",
              "      <th>MSZoning</th>\n",
              "      <th>LotFrontage</th>\n",
              "      <th>LotArea</th>\n",
              "      <th>Street</th>\n",
              "      <th>Alley</th>\n",
              "      <th>LotShape</th>\n",
              "      <th>LandContour</th>\n",
              "      <th>Utilities</th>\n",
              "      <th>...</th>\n",
              "      <th>PoolArea</th>\n",
              "      <th>PoolQC</th>\n",
              "      <th>Fence</th>\n",
              "      <th>MiscFeature</th>\n",
              "      <th>MiscVal</th>\n",
              "      <th>MoSold</th>\n",
              "      <th>YrSold</th>\n",
              "      <th>SaleType</th>\n",
              "      <th>SaleCondition</th>\n",
              "      <th>SalePrice</th>\n",
              "    </tr>\n",
              "  </thead>\n",
              "  <tbody>\n",
              "    <tr>\n",
              "      <th>0</th>\n",
              "      <td>1</td>\n",
              "      <td>60</td>\n",
              "      <td>RL</td>\n",
              "      <td>65.0</td>\n",
              "      <td>8450</td>\n",
              "      <td>Pave</td>\n",
              "      <td>NaN</td>\n",
              "      <td>Reg</td>\n",
              "      <td>Lvl</td>\n",
              "      <td>AllPub</td>\n",
              "      <td>...</td>\n",
              "      <td>0</td>\n",
              "      <td>NaN</td>\n",
              "      <td>NaN</td>\n",
              "      <td>NaN</td>\n",
              "      <td>0</td>\n",
              "      <td>2</td>\n",
              "      <td>2008</td>\n",
              "      <td>WD</td>\n",
              "      <td>Normal</td>\n",
              "      <td>208500</td>\n",
              "    </tr>\n",
              "    <tr>\n",
              "      <th>1</th>\n",
              "      <td>2</td>\n",
              "      <td>20</td>\n",
              "      <td>RL</td>\n",
              "      <td>80.0</td>\n",
              "      <td>9600</td>\n",
              "      <td>Pave</td>\n",
              "      <td>NaN</td>\n",
              "      <td>Reg</td>\n",
              "      <td>Lvl</td>\n",
              "      <td>AllPub</td>\n",
              "      <td>...</td>\n",
              "      <td>0</td>\n",
              "      <td>NaN</td>\n",
              "      <td>NaN</td>\n",
              "      <td>NaN</td>\n",
              "      <td>0</td>\n",
              "      <td>5</td>\n",
              "      <td>2007</td>\n",
              "      <td>WD</td>\n",
              "      <td>Normal</td>\n",
              "      <td>181500</td>\n",
              "    </tr>\n",
              "    <tr>\n",
              "      <th>2</th>\n",
              "      <td>3</td>\n",
              "      <td>60</td>\n",
              "      <td>RL</td>\n",
              "      <td>68.0</td>\n",
              "      <td>11250</td>\n",
              "      <td>Pave</td>\n",
              "      <td>NaN</td>\n",
              "      <td>IR1</td>\n",
              "      <td>Lvl</td>\n",
              "      <td>AllPub</td>\n",
              "      <td>...</td>\n",
              "      <td>0</td>\n",
              "      <td>NaN</td>\n",
              "      <td>NaN</td>\n",
              "      <td>NaN</td>\n",
              "      <td>0</td>\n",
              "      <td>9</td>\n",
              "      <td>2008</td>\n",
              "      <td>WD</td>\n",
              "      <td>Normal</td>\n",
              "      <td>223500</td>\n",
              "    </tr>\n",
              "    <tr>\n",
              "      <th>3</th>\n",
              "      <td>4</td>\n",
              "      <td>70</td>\n",
              "      <td>RL</td>\n",
              "      <td>60.0</td>\n",
              "      <td>9550</td>\n",
              "      <td>Pave</td>\n",
              "      <td>NaN</td>\n",
              "      <td>IR1</td>\n",
              "      <td>Lvl</td>\n",
              "      <td>AllPub</td>\n",
              "      <td>...</td>\n",
              "      <td>0</td>\n",
              "      <td>NaN</td>\n",
              "      <td>NaN</td>\n",
              "      <td>NaN</td>\n",
              "      <td>0</td>\n",
              "      <td>2</td>\n",
              "      <td>2006</td>\n",
              "      <td>WD</td>\n",
              "      <td>Abnorml</td>\n",
              "      <td>140000</td>\n",
              "    </tr>\n",
              "    <tr>\n",
              "      <th>4</th>\n",
              "      <td>5</td>\n",
              "      <td>60</td>\n",
              "      <td>RL</td>\n",
              "      <td>84.0</td>\n",
              "      <td>14260</td>\n",
              "      <td>Pave</td>\n",
              "      <td>NaN</td>\n",
              "      <td>IR1</td>\n",
              "      <td>Lvl</td>\n",
              "      <td>AllPub</td>\n",
              "      <td>...</td>\n",
              "      <td>0</td>\n",
              "      <td>NaN</td>\n",
              "      <td>NaN</td>\n",
              "      <td>NaN</td>\n",
              "      <td>0</td>\n",
              "      <td>12</td>\n",
              "      <td>2008</td>\n",
              "      <td>WD</td>\n",
              "      <td>Normal</td>\n",
              "      <td>250000</td>\n",
              "    </tr>\n",
              "  </tbody>\n",
              "</table>\n",
              "<p>5 rows × 81 columns</p>\n",
              "</div>\n",
              "    <div class=\"colab-df-buttons\">\n",
              "\n",
              "  <div class=\"colab-df-container\">\n",
              "    <button class=\"colab-df-convert\" onclick=\"convertToInteractive('df-fac3cd6e-e7cc-4d85-85fd-6d8f840abdad')\"\n",
              "            title=\"Convert this dataframe to an interactive table.\"\n",
              "            style=\"display:none;\">\n",
              "\n",
              "  <svg xmlns=\"http://www.w3.org/2000/svg\" height=\"24px\" viewBox=\"0 -960 960 960\">\n",
              "    <path d=\"M120-120v-720h720v720H120Zm60-500h600v-160H180v160Zm220 220h160v-160H400v160Zm0 220h160v-160H400v160ZM180-400h160v-160H180v160Zm440 0h160v-160H620v160ZM180-180h160v-160H180v160Zm440 0h160v-160H620v160Z\"/>\n",
              "  </svg>\n",
              "    </button>\n",
              "\n",
              "  <style>\n",
              "    .colab-df-container {\n",
              "      display:flex;\n",
              "      gap: 12px;\n",
              "    }\n",
              "\n",
              "    .colab-df-convert {\n",
              "      background-color: #E8F0FE;\n",
              "      border: none;\n",
              "      border-radius: 50%;\n",
              "      cursor: pointer;\n",
              "      display: none;\n",
              "      fill: #1967D2;\n",
              "      height: 32px;\n",
              "      padding: 0 0 0 0;\n",
              "      width: 32px;\n",
              "    }\n",
              "\n",
              "    .colab-df-convert:hover {\n",
              "      background-color: #E2EBFA;\n",
              "      box-shadow: 0px 1px 2px rgba(60, 64, 67, 0.3), 0px 1px 3px 1px rgba(60, 64, 67, 0.15);\n",
              "      fill: #174EA6;\n",
              "    }\n",
              "\n",
              "    .colab-df-buttons div {\n",
              "      margin-bottom: 4px;\n",
              "    }\n",
              "\n",
              "    [theme=dark] .colab-df-convert {\n",
              "      background-color: #3B4455;\n",
              "      fill: #D2E3FC;\n",
              "    }\n",
              "\n",
              "    [theme=dark] .colab-df-convert:hover {\n",
              "      background-color: #434B5C;\n",
              "      box-shadow: 0px 1px 3px 1px rgba(0, 0, 0, 0.15);\n",
              "      filter: drop-shadow(0px 1px 2px rgba(0, 0, 0, 0.3));\n",
              "      fill: #FFFFFF;\n",
              "    }\n",
              "  </style>\n",
              "\n",
              "    <script>\n",
              "      const buttonEl =\n",
              "        document.querySelector('#df-fac3cd6e-e7cc-4d85-85fd-6d8f840abdad button.colab-df-convert');\n",
              "      buttonEl.style.display =\n",
              "        google.colab.kernel.accessAllowed ? 'block' : 'none';\n",
              "\n",
              "      async function convertToInteractive(key) {\n",
              "        const element = document.querySelector('#df-fac3cd6e-e7cc-4d85-85fd-6d8f840abdad');\n",
              "        const dataTable =\n",
              "          await google.colab.kernel.invokeFunction('convertToInteractive',\n",
              "                                                    [key], {});\n",
              "        if (!dataTable) return;\n",
              "\n",
              "        const docLinkHtml = 'Like what you see? Visit the ' +\n",
              "          '<a target=\"_blank\" href=https://colab.research.google.com/notebooks/data_table.ipynb>data table notebook</a>'\n",
              "          + ' to learn more about interactive tables.';\n",
              "        element.innerHTML = '';\n",
              "        dataTable['output_type'] = 'display_data';\n",
              "        await google.colab.output.renderOutput(dataTable, element);\n",
              "        const docLink = document.createElement('div');\n",
              "        docLink.innerHTML = docLinkHtml;\n",
              "        element.appendChild(docLink);\n",
              "      }\n",
              "    </script>\n",
              "  </div>\n",
              "\n",
              "\n",
              "<div id=\"df-3e0a8e7f-f5ba-4ff4-9087-a125aafe1219\">\n",
              "  <button class=\"colab-df-quickchart\" onclick=\"quickchart('df-3e0a8e7f-f5ba-4ff4-9087-a125aafe1219')\"\n",
              "            title=\"Suggest charts.\"\n",
              "            style=\"display:none;\">\n",
              "\n",
              "<svg xmlns=\"http://www.w3.org/2000/svg\" height=\"24px\"viewBox=\"0 0 24 24\"\n",
              "     width=\"24px\">\n",
              "    <g>\n",
              "        <path d=\"M19 3H5c-1.1 0-2 .9-2 2v14c0 1.1.9 2 2 2h14c1.1 0 2-.9 2-2V5c0-1.1-.9-2-2-2zM9 17H7v-7h2v7zm4 0h-2V7h2v10zm4 0h-2v-4h2v4z\"/>\n",
              "    </g>\n",
              "</svg>\n",
              "  </button>\n",
              "\n",
              "<style>\n",
              "  .colab-df-quickchart {\n",
              "      --bg-color: #E8F0FE;\n",
              "      --fill-color: #1967D2;\n",
              "      --hover-bg-color: #E2EBFA;\n",
              "      --hover-fill-color: #174EA6;\n",
              "      --disabled-fill-color: #AAA;\n",
              "      --disabled-bg-color: #DDD;\n",
              "  }\n",
              "\n",
              "  [theme=dark] .colab-df-quickchart {\n",
              "      --bg-color: #3B4455;\n",
              "      --fill-color: #D2E3FC;\n",
              "      --hover-bg-color: #434B5C;\n",
              "      --hover-fill-color: #FFFFFF;\n",
              "      --disabled-bg-color: #3B4455;\n",
              "      --disabled-fill-color: #666;\n",
              "  }\n",
              "\n",
              "  .colab-df-quickchart {\n",
              "    background-color: var(--bg-color);\n",
              "    border: none;\n",
              "    border-radius: 50%;\n",
              "    cursor: pointer;\n",
              "    display: none;\n",
              "    fill: var(--fill-color);\n",
              "    height: 32px;\n",
              "    padding: 0;\n",
              "    width: 32px;\n",
              "  }\n",
              "\n",
              "  .colab-df-quickchart:hover {\n",
              "    background-color: var(--hover-bg-color);\n",
              "    box-shadow: 0 1px 2px rgba(60, 64, 67, 0.3), 0 1px 3px 1px rgba(60, 64, 67, 0.15);\n",
              "    fill: var(--button-hover-fill-color);\n",
              "  }\n",
              "\n",
              "  .colab-df-quickchart-complete:disabled,\n",
              "  .colab-df-quickchart-complete:disabled:hover {\n",
              "    background-color: var(--disabled-bg-color);\n",
              "    fill: var(--disabled-fill-color);\n",
              "    box-shadow: none;\n",
              "  }\n",
              "\n",
              "  .colab-df-spinner {\n",
              "    border: 2px solid var(--fill-color);\n",
              "    border-color: transparent;\n",
              "    border-bottom-color: var(--fill-color);\n",
              "    animation:\n",
              "      spin 1s steps(1) infinite;\n",
              "  }\n",
              "\n",
              "  @keyframes spin {\n",
              "    0% {\n",
              "      border-color: transparent;\n",
              "      border-bottom-color: var(--fill-color);\n",
              "      border-left-color: var(--fill-color);\n",
              "    }\n",
              "    20% {\n",
              "      border-color: transparent;\n",
              "      border-left-color: var(--fill-color);\n",
              "      border-top-color: var(--fill-color);\n",
              "    }\n",
              "    30% {\n",
              "      border-color: transparent;\n",
              "      border-left-color: var(--fill-color);\n",
              "      border-top-color: var(--fill-color);\n",
              "      border-right-color: var(--fill-color);\n",
              "    }\n",
              "    40% {\n",
              "      border-color: transparent;\n",
              "      border-right-color: var(--fill-color);\n",
              "      border-top-color: var(--fill-color);\n",
              "    }\n",
              "    60% {\n",
              "      border-color: transparent;\n",
              "      border-right-color: var(--fill-color);\n",
              "    }\n",
              "    80% {\n",
              "      border-color: transparent;\n",
              "      border-right-color: var(--fill-color);\n",
              "      border-bottom-color: var(--fill-color);\n",
              "    }\n",
              "    90% {\n",
              "      border-color: transparent;\n",
              "      border-bottom-color: var(--fill-color);\n",
              "    }\n",
              "  }\n",
              "</style>\n",
              "\n",
              "  <script>\n",
              "    async function quickchart(key) {\n",
              "      const quickchartButtonEl =\n",
              "        document.querySelector('#' + key + ' button');\n",
              "      quickchartButtonEl.disabled = true;  // To prevent multiple clicks.\n",
              "      quickchartButtonEl.classList.add('colab-df-spinner');\n",
              "      try {\n",
              "        const charts = await google.colab.kernel.invokeFunction(\n",
              "            'suggestCharts', [key], {});\n",
              "      } catch (error) {\n",
              "        console.error('Error during call to suggestCharts:', error);\n",
              "      }\n",
              "      quickchartButtonEl.classList.remove('colab-df-spinner');\n",
              "      quickchartButtonEl.classList.add('colab-df-quickchart-complete');\n",
              "    }\n",
              "    (() => {\n",
              "      let quickchartButtonEl =\n",
              "        document.querySelector('#df-3e0a8e7f-f5ba-4ff4-9087-a125aafe1219 button');\n",
              "      quickchartButtonEl.style.display =\n",
              "        google.colab.kernel.accessAllowed ? 'block' : 'none';\n",
              "    })();\n",
              "  </script>\n",
              "</div>\n",
              "    </div>\n",
              "  </div>\n"
            ]
          },
          "metadata": {},
          "execution_count": 4
        }
      ]
    },
    {
      "cell_type": "code",
      "source": [
        "#carregando variáveis com contensão de lista\n",
        "\n",
        "cat_vars = df.select_dtypes(include= \"object\").columns.to_list()\n",
        "target = \"SalePrice\"\n",
        "num_vars = [col for col in df.columns if col not in cat_vars+ [\"Id\",target]]\n",
        "features = cat_vars + num_vars"
      ],
      "metadata": {
        "id": "2vXcTtsMVWYd"
      },
      "execution_count": 68,
      "outputs": []
    },
    {
      "cell_type": "code",
      "source": [
        "X = df[num_vars]\n",
        "y = df[target]"
      ],
      "metadata": {
        "id": "r4b8I6T5V1x1"
      },
      "execution_count": 69,
      "outputs": []
    },
    {
      "cell_type": "code",
      "source": [
        "df.isnull().sum()"
      ],
      "metadata": {
        "colab": {
          "base_uri": "https://localhost:8080/"
        },
        "id": "xPTKSLv8X80J",
        "outputId": "18e112df-42e0-4512-94de-84d2f7107aec"
      },
      "execution_count": 70,
      "outputs": [
        {
          "output_type": "execute_result",
          "data": {
            "text/plain": [
              "Id                 0\n",
              "MSSubClass         0\n",
              "MSZoning           0\n",
              "LotFrontage      259\n",
              "LotArea            0\n",
              "                ... \n",
              "MoSold             0\n",
              "YrSold             0\n",
              "SaleType           0\n",
              "SaleCondition      0\n",
              "SalePrice          0\n",
              "Length: 81, dtype: int64"
            ]
          },
          "metadata": {},
          "execution_count": 70
        }
      ]
    },
    {
      "cell_type": "code",
      "source": [
        "from sklearn.model_selection import  train_test_split"
      ],
      "metadata": {
        "id": "qHWcOXGwYKSp"
      },
      "execution_count": 71,
      "outputs": []
    },
    {
      "cell_type": "code",
      "source": [
        "X_train, X_teste, y_train, y_teste = train_test_split(X,y, test_size= 0.2, random_state = 42)"
      ],
      "metadata": {
        "id": "HYofUQkhY-jZ"
      },
      "execution_count": 72,
      "outputs": []
    },
    {
      "cell_type": "code",
      "source": [
        "!pip install feature-engine"
      ],
      "metadata": {
        "colab": {
          "base_uri": "https://localhost:8080/"
        },
        "id": "9OPCYOUnZcP4",
        "outputId": "5a7339d2-c3d8-43e6-c01d-f879889290ed"
      },
      "execution_count": 22,
      "outputs": [
        {
          "output_type": "stream",
          "name": "stdout",
          "text": [
            "Collecting feature-engine\n",
            "  Downloading feature_engine-1.6.2-py2.py3-none-any.whl (328 kB)\n",
            "\u001b[?25l     \u001b[90m━━━━━━━━━━━━━━━━━━━━━━━━━━━━━━━━━━━━━━━━\u001b[0m \u001b[32m0.0/328.9 kB\u001b[0m \u001b[31m?\u001b[0m eta \u001b[36m-:--:--\u001b[0m\r\u001b[2K     \u001b[91m━━━━━━━━━━━━━━━━━━━━━━━━━━━━━━━━━━━━━━━\u001b[0m\u001b[91m╸\u001b[0m \u001b[32m327.7/328.9 kB\u001b[0m \u001b[31m10.0 MB/s\u001b[0m eta \u001b[36m0:00:01\u001b[0m\r\u001b[2K     \u001b[90m━━━━━━━━━━━━━━━━━━━━━━━━━━━━━━━━━━━━━━━━\u001b[0m \u001b[32m328.9/328.9 kB\u001b[0m \u001b[31m7.8 MB/s\u001b[0m eta \u001b[36m0:00:00\u001b[0m\n",
            "\u001b[?25hRequirement already satisfied: numpy>=1.18.2 in /usr/local/lib/python3.10/dist-packages (from feature-engine) (1.23.5)\n",
            "Requirement already satisfied: pandas>=1.0.3 in /usr/local/lib/python3.10/dist-packages (from feature-engine) (1.5.3)\n",
            "Requirement already satisfied: scikit-learn>=1.0.0 in /usr/local/lib/python3.10/dist-packages (from feature-engine) (1.2.2)\n",
            "Requirement already satisfied: scipy>=1.4.1 in /usr/local/lib/python3.10/dist-packages (from feature-engine) (1.11.3)\n",
            "Requirement already satisfied: statsmodels>=0.11.1 in /usr/local/lib/python3.10/dist-packages (from feature-engine) (0.14.0)\n",
            "Requirement already satisfied: python-dateutil>=2.8.1 in /usr/local/lib/python3.10/dist-packages (from pandas>=1.0.3->feature-engine) (2.8.2)\n",
            "Requirement already satisfied: pytz>=2020.1 in /usr/local/lib/python3.10/dist-packages (from pandas>=1.0.3->feature-engine) (2023.3.post1)\n",
            "Requirement already satisfied: joblib>=1.1.1 in /usr/local/lib/python3.10/dist-packages (from scikit-learn>=1.0.0->feature-engine) (1.3.2)\n",
            "Requirement already satisfied: threadpoolctl>=2.0.0 in /usr/local/lib/python3.10/dist-packages (from scikit-learn>=1.0.0->feature-engine) (3.2.0)\n",
            "Requirement already satisfied: patsy>=0.5.2 in /usr/local/lib/python3.10/dist-packages (from statsmodels>=0.11.1->feature-engine) (0.5.3)\n",
            "Requirement already satisfied: packaging>=21.3 in /usr/local/lib/python3.10/dist-packages (from statsmodels>=0.11.1->feature-engine) (23.2)\n",
            "Requirement already satisfied: six in /usr/local/lib/python3.10/dist-packages (from patsy>=0.5.2->statsmodels>=0.11.1->feature-engine) (1.16.0)\n",
            "Installing collected packages: feature-engine\n",
            "Successfully installed feature-engine-1.6.2\n"
          ]
        }
      ]
    },
    {
      "cell_type": "code",
      "source": [
        "from feature_engine.imputation import ArbitraryNumberImputer\n",
        "from feature_engine.wrappers import SklearnTransformerWrapper\n",
        "from sklearn.preprocessing import StandardScaler\n",
        "from sklearn.pipeline import Pipeline\n",
        "from sklearn.linear_model import LinearRegression\n",
        "from sklearn.ensemble import RandomForestRegressor"
      ],
      "metadata": {
        "id": "Dccv-DXIZeR4"
      },
      "execution_count": 64,
      "outputs": []
    },
    {
      "cell_type": "code",
      "source": [
        "model_lr = Pipeline(steps=[\n",
        "    (\"numeric_imputer\", ArbitraryNumberImputer(variables=num_vars, arbitrary_number= -999)),\n",
        "    (\"scale\", SklearnTransformerWrapper(transformer= StandardScaler(), variables = num_vars)),\n",
        "    (\"lr\", LinearRegression())\n",
        "])"
      ],
      "metadata": {
        "id": "I9jqI6oBZ4wZ"
      },
      "execution_count": 26,
      "outputs": []
    },
    {
      "cell_type": "code",
      "source": [
        "model_lr.fit(X_train,y_train)"
      ],
      "metadata": {
        "colab": {
          "base_uri": "https://localhost:8080/",
          "height": 223
        },
        "id": "ZCz1u_LebDrK",
        "outputId": "33f3df7b-76dc-4878-8d7b-0029cc4c7cf4"
      },
      "execution_count": 28,
      "outputs": [
        {
          "output_type": "execute_result",
          "data": {
            "text/plain": [
              "Pipeline(steps=[('numeric_imputer',\n",
              "                 ArbitraryNumberImputer(arbitrary_number=-999,\n",
              "                                        variables=['MSSubClass', 'LotFrontage',\n",
              "                                                   'LotArea', 'OverallQual',\n",
              "                                                   'OverallCond', 'YearBuilt',\n",
              "                                                   'YearRemodAdd', 'MasVnrArea',\n",
              "                                                   'BsmtFinSF1', 'BsmtFinSF2',\n",
              "                                                   'BsmtUnfSF', 'TotalBsmtSF',\n",
              "                                                   '1stFlrSF', '2ndFlrSF',\n",
              "                                                   'LowQualFinSF', 'GrLivArea',\n",
              "                                                   'BsmtFullBath',\n",
              "                                                   'BsmtHalfBath', 'FullBath',\n",
              "                                                   'HalfBath', '...\n",
              "                                                      'YearRemodAdd',\n",
              "                                                      'MasVnrArea',\n",
              "                                                      'BsmtFinSF1',\n",
              "                                                      'BsmtFinSF2', 'BsmtUnfSF',\n",
              "                                                      'TotalBsmtSF', '1stFlrSF',\n",
              "                                                      '2ndFlrSF',\n",
              "                                                      'LowQualFinSF',\n",
              "                                                      'GrLivArea',\n",
              "                                                      'BsmtFullBath',\n",
              "                                                      'BsmtHalfBath',\n",
              "                                                      'FullBath', 'HalfBath',\n",
              "                                                      'BedroomAbvGr',\n",
              "                                                      'KitchenAbvGr',\n",
              "                                                      'TotRmsAbvGrd',\n",
              "                                                      'Fireplaces',\n",
              "                                                      'GarageYrBlt',\n",
              "                                                      'GarageCars',\n",
              "                                                      'GarageArea',\n",
              "                                                      'WoodDeckSF',\n",
              "                                                      'OpenPorchSF',\n",
              "                                                      'EnclosedPorch', ...])),\n",
              "                ('lr', LinearRegression())])"
            ],
            "text/html": [
              "<style>#sk-container-id-2 {color: black;background-color: white;}#sk-container-id-2 pre{padding: 0;}#sk-container-id-2 div.sk-toggleable {background-color: white;}#sk-container-id-2 label.sk-toggleable__label {cursor: pointer;display: block;width: 100%;margin-bottom: 0;padding: 0.3em;box-sizing: border-box;text-align: center;}#sk-container-id-2 label.sk-toggleable__label-arrow:before {content: \"▸\";float: left;margin-right: 0.25em;color: #696969;}#sk-container-id-2 label.sk-toggleable__label-arrow:hover:before {color: black;}#sk-container-id-2 div.sk-estimator:hover label.sk-toggleable__label-arrow:before {color: black;}#sk-container-id-2 div.sk-toggleable__content {max-height: 0;max-width: 0;overflow: hidden;text-align: left;background-color: #f0f8ff;}#sk-container-id-2 div.sk-toggleable__content pre {margin: 0.2em;color: black;border-radius: 0.25em;background-color: #f0f8ff;}#sk-container-id-2 input.sk-toggleable__control:checked~div.sk-toggleable__content {max-height: 200px;max-width: 100%;overflow: auto;}#sk-container-id-2 input.sk-toggleable__control:checked~label.sk-toggleable__label-arrow:before {content: \"▾\";}#sk-container-id-2 div.sk-estimator input.sk-toggleable__control:checked~label.sk-toggleable__label {background-color: #d4ebff;}#sk-container-id-2 div.sk-label input.sk-toggleable__control:checked~label.sk-toggleable__label {background-color: #d4ebff;}#sk-container-id-2 input.sk-hidden--visually {border: 0;clip: rect(1px 1px 1px 1px);clip: rect(1px, 1px, 1px, 1px);height: 1px;margin: -1px;overflow: hidden;padding: 0;position: absolute;width: 1px;}#sk-container-id-2 div.sk-estimator {font-family: monospace;background-color: #f0f8ff;border: 1px dotted black;border-radius: 0.25em;box-sizing: border-box;margin-bottom: 0.5em;}#sk-container-id-2 div.sk-estimator:hover {background-color: #d4ebff;}#sk-container-id-2 div.sk-parallel-item::after {content: \"\";width: 100%;border-bottom: 1px solid gray;flex-grow: 1;}#sk-container-id-2 div.sk-label:hover label.sk-toggleable__label {background-color: #d4ebff;}#sk-container-id-2 div.sk-serial::before {content: \"\";position: absolute;border-left: 1px solid gray;box-sizing: border-box;top: 0;bottom: 0;left: 50%;z-index: 0;}#sk-container-id-2 div.sk-serial {display: flex;flex-direction: column;align-items: center;background-color: white;padding-right: 0.2em;padding-left: 0.2em;position: relative;}#sk-container-id-2 div.sk-item {position: relative;z-index: 1;}#sk-container-id-2 div.sk-parallel {display: flex;align-items: stretch;justify-content: center;background-color: white;position: relative;}#sk-container-id-2 div.sk-item::before, #sk-container-id-2 div.sk-parallel-item::before {content: \"\";position: absolute;border-left: 1px solid gray;box-sizing: border-box;top: 0;bottom: 0;left: 50%;z-index: -1;}#sk-container-id-2 div.sk-parallel-item {display: flex;flex-direction: column;z-index: 1;position: relative;background-color: white;}#sk-container-id-2 div.sk-parallel-item:first-child::after {align-self: flex-end;width: 50%;}#sk-container-id-2 div.sk-parallel-item:last-child::after {align-self: flex-start;width: 50%;}#sk-container-id-2 div.sk-parallel-item:only-child::after {width: 0;}#sk-container-id-2 div.sk-dashed-wrapped {border: 1px dashed gray;margin: 0 0.4em 0.5em 0.4em;box-sizing: border-box;padding-bottom: 0.4em;background-color: white;}#sk-container-id-2 div.sk-label label {font-family: monospace;font-weight: bold;display: inline-block;line-height: 1.2em;}#sk-container-id-2 div.sk-label-container {text-align: center;}#sk-container-id-2 div.sk-container {/* jupyter's `normalize.less` sets `[hidden] { display: none; }` but bootstrap.min.css set `[hidden] { display: none !important; }` so we also need the `!important` here to be able to override the default hidden behavior on the sphinx rendered scikit-learn.org. See: https://github.com/scikit-learn/scikit-learn/issues/21755 */display: inline-block !important;position: relative;}#sk-container-id-2 div.sk-text-repr-fallback {display: none;}</style><div id=\"sk-container-id-2\" class=\"sk-top-container\"><div class=\"sk-text-repr-fallback\"><pre>Pipeline(steps=[(&#x27;numeric_imputer&#x27;,\n",
              "                 ArbitraryNumberImputer(arbitrary_number=-999,\n",
              "                                        variables=[&#x27;MSSubClass&#x27;, &#x27;LotFrontage&#x27;,\n",
              "                                                   &#x27;LotArea&#x27;, &#x27;OverallQual&#x27;,\n",
              "                                                   &#x27;OverallCond&#x27;, &#x27;YearBuilt&#x27;,\n",
              "                                                   &#x27;YearRemodAdd&#x27;, &#x27;MasVnrArea&#x27;,\n",
              "                                                   &#x27;BsmtFinSF1&#x27;, &#x27;BsmtFinSF2&#x27;,\n",
              "                                                   &#x27;BsmtUnfSF&#x27;, &#x27;TotalBsmtSF&#x27;,\n",
              "                                                   &#x27;1stFlrSF&#x27;, &#x27;2ndFlrSF&#x27;,\n",
              "                                                   &#x27;LowQualFinSF&#x27;, &#x27;GrLivArea&#x27;,\n",
              "                                                   &#x27;BsmtFullBath&#x27;,\n",
              "                                                   &#x27;BsmtHalfBath&#x27;, &#x27;FullBath&#x27;,\n",
              "                                                   &#x27;HalfBath&#x27;, &#x27;...\n",
              "                                                      &#x27;YearRemodAdd&#x27;,\n",
              "                                                      &#x27;MasVnrArea&#x27;,\n",
              "                                                      &#x27;BsmtFinSF1&#x27;,\n",
              "                                                      &#x27;BsmtFinSF2&#x27;, &#x27;BsmtUnfSF&#x27;,\n",
              "                                                      &#x27;TotalBsmtSF&#x27;, &#x27;1stFlrSF&#x27;,\n",
              "                                                      &#x27;2ndFlrSF&#x27;,\n",
              "                                                      &#x27;LowQualFinSF&#x27;,\n",
              "                                                      &#x27;GrLivArea&#x27;,\n",
              "                                                      &#x27;BsmtFullBath&#x27;,\n",
              "                                                      &#x27;BsmtHalfBath&#x27;,\n",
              "                                                      &#x27;FullBath&#x27;, &#x27;HalfBath&#x27;,\n",
              "                                                      &#x27;BedroomAbvGr&#x27;,\n",
              "                                                      &#x27;KitchenAbvGr&#x27;,\n",
              "                                                      &#x27;TotRmsAbvGrd&#x27;,\n",
              "                                                      &#x27;Fireplaces&#x27;,\n",
              "                                                      &#x27;GarageYrBlt&#x27;,\n",
              "                                                      &#x27;GarageCars&#x27;,\n",
              "                                                      &#x27;GarageArea&#x27;,\n",
              "                                                      &#x27;WoodDeckSF&#x27;,\n",
              "                                                      &#x27;OpenPorchSF&#x27;,\n",
              "                                                      &#x27;EnclosedPorch&#x27;, ...])),\n",
              "                (&#x27;lr&#x27;, LinearRegression())])</pre><b>In a Jupyter environment, please rerun this cell to show the HTML representation or trust the notebook. <br />On GitHub, the HTML representation is unable to render, please try loading this page with nbviewer.org.</b></div><div class=\"sk-container\" hidden><div class=\"sk-item sk-dashed-wrapped\"><div class=\"sk-label-container\"><div class=\"sk-label sk-toggleable\"><input class=\"sk-toggleable__control sk-hidden--visually\" id=\"sk-estimator-id-7\" type=\"checkbox\" ><label for=\"sk-estimator-id-7\" class=\"sk-toggleable__label sk-toggleable__label-arrow\">Pipeline</label><div class=\"sk-toggleable__content\"><pre>Pipeline(steps=[(&#x27;numeric_imputer&#x27;,\n",
              "                 ArbitraryNumberImputer(arbitrary_number=-999,\n",
              "                                        variables=[&#x27;MSSubClass&#x27;, &#x27;LotFrontage&#x27;,\n",
              "                                                   &#x27;LotArea&#x27;, &#x27;OverallQual&#x27;,\n",
              "                                                   &#x27;OverallCond&#x27;, &#x27;YearBuilt&#x27;,\n",
              "                                                   &#x27;YearRemodAdd&#x27;, &#x27;MasVnrArea&#x27;,\n",
              "                                                   &#x27;BsmtFinSF1&#x27;, &#x27;BsmtFinSF2&#x27;,\n",
              "                                                   &#x27;BsmtUnfSF&#x27;, &#x27;TotalBsmtSF&#x27;,\n",
              "                                                   &#x27;1stFlrSF&#x27;, &#x27;2ndFlrSF&#x27;,\n",
              "                                                   &#x27;LowQualFinSF&#x27;, &#x27;GrLivArea&#x27;,\n",
              "                                                   &#x27;BsmtFullBath&#x27;,\n",
              "                                                   &#x27;BsmtHalfBath&#x27;, &#x27;FullBath&#x27;,\n",
              "                                                   &#x27;HalfBath&#x27;, &#x27;...\n",
              "                                                      &#x27;YearRemodAdd&#x27;,\n",
              "                                                      &#x27;MasVnrArea&#x27;,\n",
              "                                                      &#x27;BsmtFinSF1&#x27;,\n",
              "                                                      &#x27;BsmtFinSF2&#x27;, &#x27;BsmtUnfSF&#x27;,\n",
              "                                                      &#x27;TotalBsmtSF&#x27;, &#x27;1stFlrSF&#x27;,\n",
              "                                                      &#x27;2ndFlrSF&#x27;,\n",
              "                                                      &#x27;LowQualFinSF&#x27;,\n",
              "                                                      &#x27;GrLivArea&#x27;,\n",
              "                                                      &#x27;BsmtFullBath&#x27;,\n",
              "                                                      &#x27;BsmtHalfBath&#x27;,\n",
              "                                                      &#x27;FullBath&#x27;, &#x27;HalfBath&#x27;,\n",
              "                                                      &#x27;BedroomAbvGr&#x27;,\n",
              "                                                      &#x27;KitchenAbvGr&#x27;,\n",
              "                                                      &#x27;TotRmsAbvGrd&#x27;,\n",
              "                                                      &#x27;Fireplaces&#x27;,\n",
              "                                                      &#x27;GarageYrBlt&#x27;,\n",
              "                                                      &#x27;GarageCars&#x27;,\n",
              "                                                      &#x27;GarageArea&#x27;,\n",
              "                                                      &#x27;WoodDeckSF&#x27;,\n",
              "                                                      &#x27;OpenPorchSF&#x27;,\n",
              "                                                      &#x27;EnclosedPorch&#x27;, ...])),\n",
              "                (&#x27;lr&#x27;, LinearRegression())])</pre></div></div></div><div class=\"sk-serial\"><div class=\"sk-item\"><div class=\"sk-estimator sk-toggleable\"><input class=\"sk-toggleable__control sk-hidden--visually\" id=\"sk-estimator-id-8\" type=\"checkbox\" ><label for=\"sk-estimator-id-8\" class=\"sk-toggleable__label sk-toggleable__label-arrow\">ArbitraryNumberImputer</label><div class=\"sk-toggleable__content\"><pre>ArbitraryNumberImputer(arbitrary_number=-999,\n",
              "                       variables=[&#x27;MSSubClass&#x27;, &#x27;LotFrontage&#x27;, &#x27;LotArea&#x27;,\n",
              "                                  &#x27;OverallQual&#x27;, &#x27;OverallCond&#x27;, &#x27;YearBuilt&#x27;,\n",
              "                                  &#x27;YearRemodAdd&#x27;, &#x27;MasVnrArea&#x27;, &#x27;BsmtFinSF1&#x27;,\n",
              "                                  &#x27;BsmtFinSF2&#x27;, &#x27;BsmtUnfSF&#x27;, &#x27;TotalBsmtSF&#x27;,\n",
              "                                  &#x27;1stFlrSF&#x27;, &#x27;2ndFlrSF&#x27;, &#x27;LowQualFinSF&#x27;,\n",
              "                                  &#x27;GrLivArea&#x27;, &#x27;BsmtFullBath&#x27;, &#x27;BsmtHalfBath&#x27;,\n",
              "                                  &#x27;FullBath&#x27;, &#x27;HalfBath&#x27;, &#x27;BedroomAbvGr&#x27;,\n",
              "                                  &#x27;KitchenAbvGr&#x27;, &#x27;TotRmsAbvGrd&#x27;, &#x27;Fireplaces&#x27;,\n",
              "                                  &#x27;GarageYrBlt&#x27;, &#x27;GarageCars&#x27;, &#x27;GarageArea&#x27;,\n",
              "                                  &#x27;WoodDeckSF&#x27;, &#x27;OpenPorchSF&#x27;, &#x27;EnclosedPorch&#x27;, ...])</pre></div></div></div><div class=\"sk-item sk-dashed-wrapped\"><div class=\"sk-label-container\"><div class=\"sk-label sk-toggleable\"><input class=\"sk-toggleable__control sk-hidden--visually\" id=\"sk-estimator-id-9\" type=\"checkbox\" ><label for=\"sk-estimator-id-9\" class=\"sk-toggleable__label sk-toggleable__label-arrow\">scale: SklearnTransformerWrapper</label><div class=\"sk-toggleable__content\"><pre>SklearnTransformerWrapper(transformer=StandardScaler(),\n",
              "                          variables=[&#x27;MSSubClass&#x27;, &#x27;LotFrontage&#x27;, &#x27;LotArea&#x27;,\n",
              "                                     &#x27;OverallQual&#x27;, &#x27;OverallCond&#x27;, &#x27;YearBuilt&#x27;,\n",
              "                                     &#x27;YearRemodAdd&#x27;, &#x27;MasVnrArea&#x27;, &#x27;BsmtFinSF1&#x27;,\n",
              "                                     &#x27;BsmtFinSF2&#x27;, &#x27;BsmtUnfSF&#x27;, &#x27;TotalBsmtSF&#x27;,\n",
              "                                     &#x27;1stFlrSF&#x27;, &#x27;2ndFlrSF&#x27;, &#x27;LowQualFinSF&#x27;,\n",
              "                                     &#x27;GrLivArea&#x27;, &#x27;BsmtFullBath&#x27;,\n",
              "                                     &#x27;BsmtHalfBath&#x27;, &#x27;FullBath&#x27;, &#x27;HalfBath&#x27;,\n",
              "                                     &#x27;BedroomAbvGr&#x27;, &#x27;KitchenAbvGr&#x27;,\n",
              "                                     &#x27;TotRmsAbvGrd&#x27;, &#x27;Fireplaces&#x27;,\n",
              "                                     &#x27;GarageYrBlt&#x27;, &#x27;GarageCars&#x27;, &#x27;GarageArea&#x27;,\n",
              "                                     &#x27;WoodDeckSF&#x27;, &#x27;OpenPorchSF&#x27;,\n",
              "                                     &#x27;EnclosedPorch&#x27;, ...])</pre></div></div></div><div class=\"sk-parallel\"><div class=\"sk-parallel-item\"><div class=\"sk-item\"><div class=\"sk-label-container\"><div class=\"sk-label sk-toggleable\"><input class=\"sk-toggleable__control sk-hidden--visually\" id=\"sk-estimator-id-10\" type=\"checkbox\" ><label for=\"sk-estimator-id-10\" class=\"sk-toggleable__label sk-toggleable__label-arrow\">transformer: StandardScaler</label><div class=\"sk-toggleable__content\"><pre>StandardScaler()</pre></div></div></div><div class=\"sk-serial\"><div class=\"sk-item\"><div class=\"sk-estimator sk-toggleable\"><input class=\"sk-toggleable__control sk-hidden--visually\" id=\"sk-estimator-id-11\" type=\"checkbox\" ><label for=\"sk-estimator-id-11\" class=\"sk-toggleable__label sk-toggleable__label-arrow\">StandardScaler</label><div class=\"sk-toggleable__content\"><pre>StandardScaler()</pre></div></div></div></div></div></div></div></div><div class=\"sk-item\"><div class=\"sk-estimator sk-toggleable\"><input class=\"sk-toggleable__control sk-hidden--visually\" id=\"sk-estimator-id-12\" type=\"checkbox\" ><label for=\"sk-estimator-id-12\" class=\"sk-toggleable__label sk-toggleable__label-arrow\">LinearRegression</label><div class=\"sk-toggleable__content\"><pre>LinearRegression()</pre></div></div></div></div></div></div></div>"
            ]
          },
          "metadata": {},
          "execution_count": 28
        }
      ]
    },
    {
      "cell_type": "code",
      "source": [
        "y_previsto = model_lr.predict(X_teste)\n",
        "y_previsto_train = model_lr.predict(X_train)"
      ],
      "metadata": {
        "id": "LNudfgBIbO1K"
      },
      "execution_count": 43,
      "outputs": []
    },
    {
      "cell_type": "code",
      "source": [
        "#Gráfico comparação previsto com real\n",
        "##Possível observar que modelo consegue prever bem valores menores e a medida que o modelo\n",
        "##teste valore maiores, erro na predição aumenta\n",
        "sns.regplot(x = y_teste, y= y_previsto)"
      ],
      "metadata": {
        "colab": {
          "base_uri": "https://localhost:8080/",
          "height": 466
        },
        "id": "t1SJExfub8Kc",
        "outputId": "aad2a3bd-4156-4b7c-d0cb-1a2e008b39f7"
      },
      "execution_count": 34,
      "outputs": [
        {
          "output_type": "execute_result",
          "data": {
            "text/plain": [
              "<Axes: xlabel='SalePrice'>"
            ]
          },
          "metadata": {},
          "execution_count": 34
        },
        {
          "output_type": "display_data",
          "data": {
            "text/plain": [
              "<Figure size 640x480 with 1 Axes>"
            ],
            "image/png": "[encoded data removed]"
          },
          "metadata": {}
        }
      ]
    },
    {
      "cell_type": "code",
      "source": [
        "# Base com vários outliers\n",
        "sns.boxplot(x= y_train)"
      ],
      "metadata": {
        "colab": {
          "base_uri": "https://localhost:8080/",
          "height": 466
        },
        "id": "W0xMw0S5eub-",
        "outputId": "8b7fcd9b-1a2f-425d-b917-fad9935b913b"
      },
      "execution_count": 37,
      "outputs": [
        {
          "output_type": "execute_result",
          "data": {
            "text/plain": [
              "<Axes: xlabel='SalePrice'>"
            ]
          },
          "metadata": {},
          "execution_count": 37
        },
        {
          "output_type": "display_data",
          "data": {
            "text/plain": [
              "<Figure size 640x480 with 1 Axes>"
            ],
            "image/png": "[encoded data removed]"
          },
          "metadata": {}
        }
      ]
    },
    {
      "cell_type": "markdown",
      "source": [
        "# Métricas"
      ],
      "metadata": {
        "id": "LgQ7fv9go3pT"
      }
    },
    {
      "cell_type": "code",
      "source": [
        "#R2\n",
        "# Em que porcentagem o seu modelo consegue interpretar (acertividade)\n",
        "from sklearn.metrics import r2_score\n",
        "r2_noteste = r2_score(y_teste, y_previsto)\n",
        "r2_notreino = r2_score(y_train, y_previsto_train)\n",
        "print(f\"R2 no teste {r2_noteste}\")\n",
        "print(f\"R2 no treino {r2_notreino}\")"
      ],
      "metadata": {
        "colab": {
          "base_uri": "https://localhost:8080/"
        },
        "id": "1lNBsruhiNeM",
        "outputId": "9fa1b8be-9828-43dc-9267-31132a45b46d"
      },
      "execution_count": 45,
      "outputs": [
        {
          "output_type": "stream",
          "name": "stdout",
          "text": [
            "R2 no teste 0.8290694913321144\n",
            "R2 no treino 0.8093738209116383\n"
          ]
        }
      ]
    },
    {
      "cell_type": "code",
      "source": [
        "#MAE\n",
        "# Quanto em média absoluta o modelo erra ?\n",
        "from sklearn.metrics import mean_absolute_error\n",
        "mae_noteste = mean_absolute_error(y_teste, y_previsto)\n",
        "mae_notreino = mean_absolute_error(y_train, y_previsto_train)\n",
        "print(f\"mae no teste {mae_noteste}\")\n",
        "print(f\"mae no treino {mae_notreino}\")\n",
        "print(df[target].mean())\n",
        "print(df[target].std())"
      ],
      "metadata": {
        "colab": {
          "base_uri": "https://localhost:8080/"
        },
        "id": "zVDd4P-GiW2N",
        "outputId": "0cd05338-90ba-40ba-d958-017a2c82e4de"
      },
      "execution_count": 59,
      "outputs": [
        {
          "output_type": "stream",
          "name": "stdout",
          "text": [
            "mae no teste 22141.62943159128\n",
            "mae no treino 20845.523758521693\n",
            "180921.19589041095\n",
            "79442.50288288662\n"
          ]
        }
      ]
    },
    {
      "cell_type": "code",
      "source": [
        "#MSE\n",
        "from sklearn.metrics import mean_squared_error\n",
        "mse_noteste = mean_squared_error(y_teste, y_previsto)\n",
        "mse_notreino = mean_squared_error(y_train, y_previsto_train)\n",
        "print(f\"mse no teste {mse_noteste}\")\n",
        "print(f\"mse no treino {mse_notreino}\")"
      ],
      "metadata": {
        "colab": {
          "base_uri": "https://localhost:8080/"
        },
        "id": "3D3N51hMjwjv",
        "outputId": "d8ade3b8-dfdc-421a-ab6d-ccf30770268e"
      },
      "execution_count": 49,
      "outputs": [
        {
          "output_type": "stream",
          "name": "stdout",
          "text": [
            "mse no teste 1311092760.243109\n",
            "mse no treino 1136999448.8756864\n"
          ]
        }
      ]
    },
    {
      "cell_type": "code",
      "source": [
        "#RMSE\n",
        "#sofre menos penalização com os outliers\n",
        "from sklearn.metrics import mean_squared_error\n",
        "rmse_noteste = mean_squared_error(y_teste, y_previsto, squared = False)\n",
        "rmse_notreino = mean_squared_error(y_train, y_previsto_train, squared = False)\n",
        "print(f\"rmse no teste {rmse_noteste}\")\n",
        "print(f\"rmse no treino {rmse_notreino}\")"
      ],
      "metadata": {
        "colab": {
          "base_uri": "https://localhost:8080/"
        },
        "id": "RPJcLa1alWx_",
        "outputId": "141db9d6-79c3-4ca0-bdf0-77f43ec97f01"
      },
      "execution_count": 51,
      "outputs": [
        {
          "output_type": "stream",
          "name": "stdout",
          "text": [
            "rmse no teste 36209.014902964554\n",
            "rmse no treino 33719.42242796704\n"
          ]
        }
      ]
    },
    {
      "cell_type": "code",
      "source": [
        "#RMSLE\n",
        "#rmsle no treino muito pequeno, valor negativo\n",
        "from sklearn.metrics import mean_squared_log_error\n",
        "rmsle_noteste = mean_squared_log_error(y_teste, y_previsto)\n",
        "#rmsle_notreino = mean_squared_log_error(y_train, y_previsto_train)\n",
        "print(f\"rmse no teste {rmsle_noteste}\")\n",
        "#print(f\"rmse no treino {rmsle_notreino}\")"
      ],
      "metadata": {
        "colab": {
          "base_uri": "https://localhost:8080/"
        },
        "id": "KPO_f7VxmA3G",
        "outputId": "061f6c9e-0fbf-436a-a32a-0bb2b59565e7"
      },
      "execution_count": 54,
      "outputs": [
        {
          "output_type": "stream",
          "name": "stdout",
          "text": [
            "rmse no teste 0.03040650380055865\n"
          ]
        }
      ]
    },
    {
      "cell_type": "code",
      "source": [
        "#Max error\n",
        "\n",
        "#erro máximo que pode atingir\n",
        "from sklearn.metrics import max_error\n",
        "max_error_noteste = max_error(y_teste, y_previsto)\n",
        "max_error_notreino = max_error(y_train, y_previsto_train)\n",
        "print(f\"max error no teste {max_error_noteste}\")\n",
        "print(f\"max erorr no treino {max_error_notreino}\")"
      ],
      "metadata": {
        "colab": {
          "base_uri": "https://localhost:8080/"
        },
        "id": "rG0_Ho-nm4sc",
        "outputId": "b725c158-eb99-4146-ac7e-8e7db6cdfa7a"
      },
      "execution_count": 55,
      "outputs": [
        {
          "output_type": "stream",
          "name": "stdout",
          "text": [
            "max error no teste 290890.0881130221\n",
            "max erorr no treino 436516.95579976705\n"
          ]
        }
      ]
    },
    {
      "cell_type": "code",
      "source": [
        "#MedAE\n",
        "from sklearn.metrics import median_absolute_error\n",
        "MedAE_noteste = median_absolute_error(y_teste, y_previsto)\n",
        "MedAE_notreino = median_absolute_error(y_train, y_previsto_train)\n",
        "print(f\"median absolute error no teste {MedAE_noteste}\")\n",
        "print(f\"median absolute error no treino {MedAE_notreino}\")"
      ],
      "metadata": {
        "colab": {
          "base_uri": "https://localhost:8080/"
        },
        "id": "8V3WDzpGnPm9",
        "outputId": "fd7e07b7-c691-4a87-87eb-bd11cecb0a78"
      },
      "execution_count": 56,
      "outputs": [
        {
          "output_type": "stream",
          "name": "stdout",
          "text": [
            "median absolute error no teste 16517.130730214063\n",
            "median absolute error no treino 15064.638142537122\n"
          ]
        }
      ]
    },
    {
      "cell_type": "code",
      "source": [
        "#MAPE\n",
        "#Erro médio absoluto em percentual, o quanto o modelo esta errando\n",
        "\n",
        "from sklearn.metrics import mean_absolute_percentage_error\n",
        "MAPE_noteste = mean_absolute_percentage_error(y_teste, y_previsto)\n",
        "MAPE_notreino = mean_absolute_percentage_error(y_train, y_previsto_train)\n",
        "print(f\"MAPE no teste {MAPE_noteste}\")\n",
        "print(f\"MAPE no treino {MAPE_notreino}\")\n",
        "\n",
        "#MAPE = 0.12 - predição alta"
      ],
      "metadata": {
        "colab": {
          "base_uri": "https://localhost:8080/"
        },
        "id": "or1BMmBfnt4N",
        "outputId": "1cddd465-84e8-43f9-9b85-3c25c6b4e41a"
      },
      "execution_count": 57,
      "outputs": [
        {
          "output_type": "stream",
          "name": "stdout",
          "text": [
            "MAPE no teste 0.12803732713762903\n",
            "MAPE no treino 0.12355802954801244\n"
          ]
        }
      ]
    },
    {
      "cell_type": "markdown",
      "source": [
        "# em produção"
      ],
      "metadata": {
        "id": "3ejyPJ_GqwZj"
      }
    },
    {
      "cell_type": "code",
      "source": [
        "X_teste[\"valor_casa\"] = model_lr.predict(X_teste)"
      ],
      "metadata": {
        "id": "92U3ILwDoaQV"
      },
      "execution_count": 60,
      "outputs": []
    },
    {
      "cell_type": "code",
      "source": [
        "X_teste[\"mais\"] = X_teste[\"valor_casa\"]*(1+ 0.13)\n",
        "X_teste[\"menos\"] = X_teste[\"valor_casa\"]*(1- 0.13)"
      ],
      "metadata": {
        "id": "EMMgvdMLq9Hd"
      },
      "execution_count": 61,
      "outputs": []
    },
    {
      "cell_type": "code",
      "source": [
        "X_teste"
      ],
      "metadata": {
        "colab": {
          "base_uri": "https://localhost:8080/",
          "height": 443
        },
        "id": "DoDVBofTriIu",
        "outputId": "6a9e2514-6625-4cd5-e9f4-85cc718146f5"
      },
      "execution_count": 62,
      "outputs": [
        {
          "output_type": "execute_result",
          "data": {
            "text/plain": [
              "      MSSubClass  LotFrontage  LotArea  OverallQual  OverallCond  YearBuilt  \\\n",
              "892           20         70.0     8414            6            8       1963   \n",
              "1105          60         98.0    12256            8            5       1994   \n",
              "413           30         56.0     8960            5            6       1927   \n",
              "522           50         50.0     5000            6            7       1947   \n",
              "1036          20         89.0    12898            9            5       2007   \n",
              "...          ...          ...      ...          ...          ...        ...   \n",
              "479           30         50.0     5925            4            7       1937   \n",
              "1361          20        124.0    16158            7            5       2005   \n",
              "802           60         63.0     8199            7            5       2005   \n",
              "651           70         60.0     9084            4            5       1940   \n",
              "722           20         70.0     8120            4            7       1970   \n",
              "\n",
              "      YearRemodAdd  MasVnrArea  BsmtFinSF1  BsmtFinSF2  ...  EnclosedPorch  \\\n",
              "892           2003         0.0         663           0  ...              0   \n",
              "1105          1995       362.0        1032           0  ...              0   \n",
              "413           1950         0.0           0           0  ...            130   \n",
              "522           1950         0.0         399           0  ...             36   \n",
              "1036          2008        70.0        1022           0  ...              0   \n",
              "...            ...         ...         ...         ...  ...            ...   \n",
              "479           2000       435.0         168           0  ...              0   \n",
              "1361          2005        16.0        1274           0  ...              0   \n",
              "802           2005         0.0         648           0  ...              0   \n",
              "651           1950         0.0           0           0  ...              0   \n",
              "722           1970         0.0         191           0  ...              0   \n",
              "\n",
              "      3SsnPorch  ScreenPorch  PoolArea  MiscVal  MoSold  YrSold  \\\n",
              "892           0            0         0        0       2    2006   \n",
              "1105          0            0         0        0       4    2010   \n",
              "413           0            0         0        0       3    2010   \n",
              "522           0            0         0        0      10    2006   \n",
              "1036          0            0         0        0       9    2009   \n",
              "...         ...          ...       ...      ...     ...     ...   \n",
              "479           0            0         0        0       3    2007   \n",
              "1361          0            0         0        0       6    2009   \n",
              "802           0            0         0        0      10    2008   \n",
              "651           0            0         0        0      10    2009   \n",
              "722           0            0         0        0       7    2009   \n",
              "\n",
              "         valor_casa           mais          menos  \n",
              "892   150979.143430  170606.432076  131351.854784  \n",
              "1105  312057.685577  352625.184702  271490.186452  \n",
              "413   116013.512438  131095.269054  100931.755821  \n",
              "522   181493.381360  205087.520937  157899.241783  \n",
              "1036  302444.177262  341761.920307  263126.434218  \n",
              "...             ...            ...            ...  \n",
              "479   131014.037133  148045.861960  113982.212305  \n",
              "1361  240271.548388  271506.849679  209036.247098  \n",
              "802   213232.530992  240952.760021  185512.301963  \n",
              "651    99770.591894  112740.768840   86800.414948  \n",
              "722   100827.314735  113934.865651   87719.763820  \n",
              "\n",
              "[292 rows x 39 columns]"
            ],
            "text/html": [
              "\n",
              "  <div id=\"df-51c5fb9d-e6e4-45cf-8bf1-7273bd56de34\" class=\"colab-df-container\">\n",
              "    <div>\n",
              "<style scoped>\n",
              "    .dataframe tbody tr th:only-of-type {\n",
              "        vertical-align: middle;\n",
              "    }\n",
              "\n",
              "    .dataframe tbody tr th {\n",
              "        vertical-align: top;\n",
              "    }\n",
              "\n",
              "    .dataframe thead th {\n",
              "        text-align: right;\n",
              "    }\n",
              "</style>\n",
              "<table border=\"1\" class=\"dataframe\">\n",
              "  <thead>\n",
              "    <tr style=\"text-align: right;\">\n",
              "      <th></th>\n",
              "      <th>MSSubClass</th>\n",
              "      <th>LotFrontage</th>\n",
              "      <th>LotArea</th>\n",
              "      <th>OverallQual</th>\n",
              "      <th>OverallCond</th>\n",
              "      <th>YearBuilt</th>\n",
              "      <th>YearRemodAdd</th>\n",
              "      <th>MasVnrArea</th>\n",
              "      <th>BsmtFinSF1</th>\n",
              "      <th>BsmtFinSF2</th>\n",
              "      <th>...</th>\n",
              "      <th>EnclosedPorch</th>\n",
              "      <th>3SsnPorch</th>\n",
              "      <th>ScreenPorch</th>\n",
              "      <th>PoolArea</th>\n",
              "      <th>MiscVal</th>\n",
              "      <th>MoSold</th>\n",
              "      <th>YrSold</th>\n",
              "      <th>valor_casa</th>\n",
              "      <th>mais</th>\n",
              "      <th>menos</th>\n",
              "    </tr>\n",
              "  </thead>\n",
              "  <tbody>\n",
              "    <tr>\n",
              "      <th>892</th>\n",
              "      <td>20</td>\n",
              "      <td>70.0</td>\n",
              "      <td>8414</td>\n",
              "      <td>6</td>\n",
              "      <td>8</td>\n",
              "      <td>1963</td>\n",
              "      <td>2003</td>\n",
              "      <td>0.0</td>\n",
              "      <td>663</td>\n",
              "      <td>0</td>\n",
              "      <td>...</td>\n",
              "      <td>0</td>\n",
              "      <td>0</td>\n",
              "      <td>0</td>\n",
              "      <td>0</td>\n",
              "      <td>0</td>\n",
              "      <td>2</td>\n",
              "      <td>2006</td>\n",
              "      <td>150979.143430</td>\n",
              "      <td>170606.432076</td>\n",
              "      <td>131351.854784</td>\n",
              "    </tr>\n",
              "    <tr>\n",
              "      <th>1105</th>\n",
              "      <td>60</td>\n",
              "      <td>98.0</td>\n",
              "      <td>12256</td>\n",
              "      <td>8</td>\n",
              "      <td>5</td>\n",
              "      <td>1994</td>\n",
              "      <td>1995</td>\n",
              "      <td>362.0</td>\n",
              "      <td>1032</td>\n",
              "      <td>0</td>\n",
              "      <td>...</td>\n",
              "      <td>0</td>\n",
              "      <td>0</td>\n",
              "      <td>0</td>\n",
              "      <td>0</td>\n",
              "      <td>0</td>\n",
              "      <td>4</td>\n",
              "      <td>2010</td>\n",
              "      <td>312057.685577</td>\n",
              "      <td>352625.184702</td>\n",
              "      <td>271490.186452</td>\n",
              "    </tr>\n",
              "    <tr>\n",
              "      <th>413</th>\n",
              "      <td>30</td>\n",
              "      <td>56.0</td>\n",
              "      <td>8960</td>\n",
              "      <td>5</td>\n",
              "      <td>6</td>\n",
              "      <td>1927</td>\n",
              "      <td>1950</td>\n",
              "      <td>0.0</td>\n",
              "      <td>0</td>\n",
              "      <td>0</td>\n",
              "      <td>...</td>\n",
              "      <td>130</td>\n",
              "      <td>0</td>\n",
              "      <td>0</td>\n",
              "      <td>0</td>\n",
              "      <td>0</td>\n",
              "      <td>3</td>\n",
              "      <td>2010</td>\n",
              "      <td>116013.512438</td>\n",
              "      <td>131095.269054</td>\n",
              "      <td>100931.755821</td>\n",
              "    </tr>\n",
              "    <tr>\n",
              "      <th>522</th>\n",
              "      <td>50</td>\n",
              "      <td>50.0</td>\n",
              "      <td>5000</td>\n",
              "      <td>6</td>\n",
              "      <td>7</td>\n",
              "      <td>1947</td>\n",
              "      <td>1950</td>\n",
              "      <td>0.0</td>\n",
              "      <td>399</td>\n",
              "      <td>0</td>\n",
              "      <td>...</td>\n",
              "      <td>36</td>\n",
              "      <td>0</td>\n",
              "      <td>0</td>\n",
              "      <td>0</td>\n",
              "      <td>0</td>\n",
              "      <td>10</td>\n",
              "      <td>2006</td>\n",
              "      <td>181493.381360</td>\n",
              "      <td>205087.520937</td>\n",
              "      <td>157899.241783</td>\n",
              "    </tr>\n",
              "    <tr>\n",
              "      <th>1036</th>\n",
              "      <td>20</td>\n",
              "      <td>89.0</td>\n",
              "      <td>12898</td>\n",
              "      <td>9</td>\n",
              "      <td>5</td>\n",
              "      <td>2007</td>\n",
              "      <td>2008</td>\n",
              "      <td>70.0</td>\n",
              "      <td>1022</td>\n",
              "      <td>0</td>\n",
              "      <td>...</td>\n",
              "      <td>0</td>\n",
              "      <td>0</td>\n",
              "      <td>0</td>\n",
              "      <td>0</td>\n",
              "      <td>0</td>\n",
              "      <td>9</td>\n",
              "      <td>2009</td>\n",
              "      <td>302444.177262</td>\n",
              "      <td>341761.920307</td>\n",
              "      <td>263126.434218</td>\n",
              "    </tr>\n",
              "    <tr>\n",
              "      <th>...</th>\n",
              "      <td>...</td>\n",
              "      <td>...</td>\n",
              "      <td>...</td>\n",
              "      <td>...</td>\n",
              "      <td>...</td>\n",
              "      <td>...</td>\n",
              "      <td>...</td>\n",
              "      <td>...</td>\n",
              "      <td>...</td>\n",
              "      <td>...</td>\n",
              "      <td>...</td>\n",
              "      <td>...</td>\n",
              "      <td>...</td>\n",
              "      <td>...</td>\n",
              "      <td>...</td>\n",
              "      <td>...</td>\n",
              "      <td>...</td>\n",
              "      <td>...</td>\n",
              "      <td>...</td>\n",
              "      <td>...</td>\n",
              "      <td>...</td>\n",
              "    </tr>\n",
              "    <tr>\n",
              "      <th>479</th>\n",
              "      <td>30</td>\n",
              "      <td>50.0</td>\n",
              "      <td>5925</td>\n",
              "      <td>4</td>\n",
              "      <td>7</td>\n",
              "      <td>1937</td>\n",
              "      <td>2000</td>\n",
              "      <td>435.0</td>\n",
              "      <td>168</td>\n",
              "      <td>0</td>\n",
              "      <td>...</td>\n",
              "      <td>0</td>\n",
              "      <td>0</td>\n",
              "      <td>0</td>\n",
              "      <td>0</td>\n",
              "      <td>0</td>\n",
              "      <td>3</td>\n",
              "      <td>2007</td>\n",
              "      <td>131014.037133</td>\n",
              "      <td>148045.861960</td>\n",
              "      <td>113982.212305</td>\n",
              "    </tr>\n",
              "    <tr>\n",
              "      <th>1361</th>\n",
              "      <td>20</td>\n",
              "      <td>124.0</td>\n",
              "      <td>16158</td>\n",
              "      <td>7</td>\n",
              "      <td>5</td>\n",
              "      <td>2005</td>\n",
              "      <td>2005</td>\n",
              "      <td>16.0</td>\n",
              "      <td>1274</td>\n",
              "      <td>0</td>\n",
              "      <td>...</td>\n",
              "      <td>0</td>\n",
              "      <td>0</td>\n",
              "      <td>0</td>\n",
              "      <td>0</td>\n",
              "      <td>0</td>\n",
              "      <td>6</td>\n",
              "      <td>2009</td>\n",
              "      <td>240271.548388</td>\n",
              "      <td>271506.849679</td>\n",
              "      <td>209036.247098</td>\n",
              "    </tr>\n",
              "    <tr>\n",
              "      <th>802</th>\n",
              "      <td>60</td>\n",
              "      <td>63.0</td>\n",
              "      <td>8199</td>\n",
              "      <td>7</td>\n",
              "      <td>5</td>\n",
              "      <td>2005</td>\n",
              "      <td>2005</td>\n",
              "      <td>0.0</td>\n",
              "      <td>648</td>\n",
              "      <td>0</td>\n",
              "      <td>...</td>\n",
              "      <td>0</td>\n",
              "      <td>0</td>\n",
              "      <td>0</td>\n",
              "      <td>0</td>\n",
              "      <td>0</td>\n",
              "      <td>10</td>\n",
              "      <td>2008</td>\n",
              "      <td>213232.530992</td>\n",
              "      <td>240952.760021</td>\n",
              "      <td>185512.301963</td>\n",
              "    </tr>\n",
              "    <tr>\n",
              "      <th>651</th>\n",
              "      <td>70</td>\n",
              "      <td>60.0</td>\n",
              "      <td>9084</td>\n",
              "      <td>4</td>\n",
              "      <td>5</td>\n",
              "      <td>1940</td>\n",
              "      <td>1950</td>\n",
              "      <td>0.0</td>\n",
              "      <td>0</td>\n",
              "      <td>0</td>\n",
              "      <td>...</td>\n",
              "      <td>0</td>\n",
              "      <td>0</td>\n",
              "      <td>0</td>\n",
              "      <td>0</td>\n",
              "      <td>0</td>\n",
              "      <td>10</td>\n",
              "      <td>2009</td>\n",
              "      <td>99770.591894</td>\n",
              "      <td>112740.768840</td>\n",
              "      <td>86800.414948</td>\n",
              "    </tr>\n",
              "    <tr>\n",
              "      <th>722</th>\n",
              "      <td>20</td>\n",
              "      <td>70.0</td>\n",
              "      <td>8120</td>\n",
              "      <td>4</td>\n",
              "      <td>7</td>\n",
              "      <td>1970</td>\n",
              "      <td>1970</td>\n",
              "      <td>0.0</td>\n",
              "      <td>191</td>\n",
              "      <td>0</td>\n",
              "      <td>...</td>\n",
              "      <td>0</td>\n",
              "      <td>0</td>\n",
              "      <td>0</td>\n",
              "      <td>0</td>\n",
              "      <td>0</td>\n",
              "      <td>7</td>\n",
              "      <td>2009</td>\n",
              "      <td>100827.314735</td>\n",
              "      <td>113934.865651</td>\n",
              "      <td>87719.763820</td>\n",
              "    </tr>\n",
              "  </tbody>\n",
              "</table>\n",
              "<p>292 rows × 39 columns</p>\n",
              "</div>\n",
              "    <div class=\"colab-df-buttons\">\n",
              "\n",
              "  <div class=\"colab-df-container\">\n",
              "    <button class=\"colab-df-convert\" onclick=\"convertToInteractive('df-51c5fb9d-e6e4-45cf-8bf1-7273bd56de34')\"\n",
              "            title=\"Convert this dataframe to an interactive table.\"\n",
              "            style=\"display:none;\">\n",
              "\n",
              "  <svg xmlns=\"http://www.w3.org/2000/svg\" height=\"24px\" viewBox=\"0 -960 960 960\">\n",
              "    <path d=\"M120-120v-720h720v720H120Zm60-500h600v-160H180v160Zm220 220h160v-160H400v160Zm0 220h160v-160H400v160ZM180-400h160v-160H180v160Zm440 0h160v-160H620v160ZM180-180h160v-160H180v160Zm440 0h160v-160H620v160Z\"/>\n",
              "  </svg>\n",
              "    </button>\n",
              "\n",
              "  <style>\n",
              "    .colab-df-container {\n",
              "      display:flex;\n",
              "      gap: 12px;\n",
              "    }\n",
              "\n",
              "    .colab-df-convert {\n",
              "      background-color: #E8F0FE;\n",
              "      border: none;\n",
              "      border-radius: 50%;\n",
              "      cursor: pointer;\n",
              "      display: none;\n",
              "      fill: #1967D2;\n",
              "      height: 32px;\n",
              "      padding: 0 0 0 0;\n",
              "      width: 32px;\n",
              "    }\n",
              "\n",
              "    .colab-df-convert:hover {\n",
              "      background-color: #E2EBFA;\n",
              "      box-shadow: 0px 1px 2px rgba(60, 64, 67, 0.3), 0px 1px 3px 1px rgba(60, 64, 67, 0.15);\n",
              "      fill: #174EA6;\n",
              "    }\n",
              "\n",
              "    .colab-df-buttons div {\n",
              "      margin-bottom: 4px;\n",
              "    }\n",
              "\n",
              "    [theme=dark] .colab-df-convert {\n",
              "      background-color: #3B4455;\n",
              "      fill: #D2E3FC;\n",
              "    }\n",
              "\n",
              "    [theme=dark] .colab-df-convert:hover {\n",
              "      background-color: #434B5C;\n",
              "      box-shadow: 0px 1px 3px 1px rgba(0, 0, 0, 0.15);\n",
              "      filter: drop-shadow(0px 1px 2px rgba(0, 0, 0, 0.3));\n",
              "      fill: #FFFFFF;\n",
              "    }\n",
              "  </style>\n",
              "\n",
              "    <script>\n",
              "      const buttonEl =\n",
              "        document.querySelector('#df-51c5fb9d-e6e4-45cf-8bf1-7273bd56de34 button.colab-df-convert');\n",
              "      buttonEl.style.display =\n",
              "        google.colab.kernel.accessAllowed ? 'block' : 'none';\n",
              "\n",
              "      async function convertToInteractive(key) {\n",
              "        const element = document.querySelector('#df-51c5fb9d-e6e4-45cf-8bf1-7273bd56de34');\n",
              "        const dataTable =\n",
              "          await google.colab.kernel.invokeFunction('convertToInteractive',\n",
              "                                                    [key], {});\n",
              "        if (!dataTable) return;\n",
              "\n",
              "        const docLinkHtml = 'Like what you see? Visit the ' +\n",
              "          '<a target=\"_blank\" href=https://colab.research.google.com/notebooks/data_table.ipynb>data table notebook</a>'\n",
              "          + ' to learn more about interactive tables.';\n",
              "        element.innerHTML = '';\n",
              "        dataTable['output_type'] = 'display_data';\n",
              "        await google.colab.output.renderOutput(dataTable, element);\n",
              "        const docLink = document.createElement('div');\n",
              "        docLink.innerHTML = docLinkHtml;\n",
              "        element.appendChild(docLink);\n",
              "      }\n",
              "    </script>\n",
              "  </div>\n",
              "\n",
              "\n",
              "<div id=\"df-aa7014a6-8a56-4034-bad4-7e287ce6c132\">\n",
              "  <button class=\"colab-df-quickchart\" onclick=\"quickchart('df-aa7014a6-8a56-4034-bad4-7e287ce6c132')\"\n",
              "            title=\"Suggest charts.\"\n",
              "            style=\"display:none;\">\n",
              "\n",
              "<svg xmlns=\"http://www.w3.org/2000/svg\" height=\"24px\"viewBox=\"0 0 24 24\"\n",
              "     width=\"24px\">\n",
              "    <g>\n",
              "        <path d=\"M19 3H5c-1.1 0-2 .9-2 2v14c0 1.1.9 2 2 2h14c1.1 0 2-.9 2-2V5c0-1.1-.9-2-2-2zM9 17H7v-7h2v7zm4 0h-2V7h2v10zm4 0h-2v-4h2v4z\"/>\n",
              "    </g>\n",
              "</svg>\n",
              "  </button>\n",
              "\n",
              "<style>\n",
              "  .colab-df-quickchart {\n",
              "      --bg-color: #E8F0FE;\n",
              "      --fill-color: #1967D2;\n",
              "      --hover-bg-color: #E2EBFA;\n",
              "      --hover-fill-color: #174EA6;\n",
              "      --disabled-fill-color: #AAA;\n",
              "      --disabled-bg-color: #DDD;\n",
              "  }\n",
              "\n",
              "  [theme=dark] .colab-df-quickchart {\n",
              "      --bg-color: #3B4455;\n",
              "      --fill-color: #D2E3FC;\n",
              "      --hover-bg-color: #434B5C;\n",
              "      --hover-fill-color: #FFFFFF;\n",
              "      --disabled-bg-color: #3B4455;\n",
              "      --disabled-fill-color: #666;\n",
              "  }\n",
              "\n",
              "  .colab-df-quickchart {\n",
              "    background-color: var(--bg-color);\n",
              "    border: none;\n",
              "    border-radius: 50%;\n",
              "    cursor: pointer;\n",
              "    display: none;\n",
              "    fill: var(--fill-color);\n",
              "    height: 32px;\n",
              "    padding: 0;\n",
              "    width: 32px;\n",
              "  }\n",
              "\n",
              "  .colab-df-quickchart:hover {\n",
              "    background-color: var(--hover-bg-color);\n",
              "    box-shadow: 0 1px 2px rgba(60, 64, 67, 0.3), 0 1px 3px 1px rgba(60, 64, 67, 0.15);\n",
              "    fill: var(--button-hover-fill-color);\n",
              "  }\n",
              "\n",
              "  .colab-df-quickchart-complete:disabled,\n",
              "  .colab-df-quickchart-complete:disabled:hover {\n",
              "    background-color: var(--disabled-bg-color);\n",
              "    fill: var(--disabled-fill-color);\n",
              "    box-shadow: none;\n",
              "  }\n",
              "\n",
              "  .colab-df-spinner {\n",
              "    border: 2px solid var(--fill-color);\n",
              "    border-color: transparent;\n",
              "    border-bottom-color: var(--fill-color);\n",
              "    animation:\n",
              "      spin 1s steps(1) infinite;\n",
              "  }\n",
              "\n",
              "  @keyframes spin {\n",
              "    0% {\n",
              "      border-color: transparent;\n",
              "      border-bottom-color: var(--fill-color);\n",
              "      border-left-color: var(--fill-color);\n",
              "    }\n",
              "    20% {\n",
              "      border-color: transparent;\n",
              "      border-left-color: var(--fill-color);\n",
              "      border-top-color: var(--fill-color);\n",
              "    }\n",
              "    30% {\n",
              "      border-color: transparent;\n",
              "      border-left-color: var(--fill-color);\n",
              "      border-top-color: var(--fill-color);\n",
              "      border-right-color: var(--fill-color);\n",
              "    }\n",
              "    40% {\n",
              "      border-color: transparent;\n",
              "      border-right-color: var(--fill-color);\n",
              "      border-top-color: var(--fill-color);\n",
              "    }\n",
              "    60% {\n",
              "      border-color: transparent;\n",
              "      border-right-color: var(--fill-color);\n",
              "    }\n",
              "    80% {\n",
              "      border-color: transparent;\n",
              "      border-right-color: var(--fill-color);\n",
              "      border-bottom-color: var(--fill-color);\n",
              "    }\n",
              "    90% {\n",
              "      border-color: transparent;\n",
              "      border-bottom-color: var(--fill-color);\n",
              "    }\n",
              "  }\n",
              "</style>\n",
              "\n",
              "  <script>\n",
              "    async function quickchart(key) {\n",
              "      const quickchartButtonEl =\n",
              "        document.querySelector('#' + key + ' button');\n",
              "      quickchartButtonEl.disabled = true;  // To prevent multiple clicks.\n",
              "      quickchartButtonEl.classList.add('colab-df-spinner');\n",
              "      try {\n",
              "        const charts = await google.colab.kernel.invokeFunction(\n",
              "            'suggestCharts', [key], {});\n",
              "      } catch (error) {\n",
              "        console.error('Error during call to suggestCharts:', error);\n",
              "      }\n",
              "      quickchartButtonEl.classList.remove('colab-df-spinner');\n",
              "      quickchartButtonEl.classList.add('colab-df-quickchart-complete');\n",
              "    }\n",
              "    (() => {\n",
              "      let quickchartButtonEl =\n",
              "        document.querySelector('#df-aa7014a6-8a56-4034-bad4-7e287ce6c132 button');\n",
              "      quickchartButtonEl.style.display =\n",
              "        google.colab.kernel.accessAllowed ? 'block' : 'none';\n",
              "    })();\n",
              "  </script>\n",
              "</div>\n",
              "    </div>\n",
              "  </div>\n"
            ]
          },
          "metadata": {},
          "execution_count": 62
        }
      ]
    },
    {
      "cell_type": "code",
      "source": [
        "model_rf = Pipeline(steps=[\n",
        "    (\"numeric_imputer\", ArbitraryNumberImputer(variables=num_vars, arbitrary_number= -999)),\n",
        "    (\"scale\", SklearnTransformerWrapper(transformer= StandardScaler(), variables = num_vars)),\n",
        "    (\"rf\", RandomForestRegressor())\n",
        "])"
      ],
      "metadata": {
        "id": "-0VZ9u52siFm"
      },
      "execution_count": 73,
      "outputs": []
    },
    {
      "cell_type": "code",
      "source": [
        "model_rf.fit(X_train, y_train)"
      ],
      "metadata": {
        "colab": {
          "base_uri": "https://localhost:8080/",
          "height": 223
        },
        "id": "KeZr1We6rkt9",
        "outputId": "707bf1ac-cf21-4a98-b074-38d4c8712208"
      },
      "execution_count": 74,
      "outputs": [
        {
          "output_type": "execute_result",
          "data": {
            "text/plain": [
              "Pipeline(steps=[('numeric_imputer',\n",
              "                 ArbitraryNumberImputer(arbitrary_number=-999,\n",
              "                                        variables=['MSSubClass', 'LotFrontage',\n",
              "                                                   'LotArea', 'OverallQual',\n",
              "                                                   'OverallCond', 'YearBuilt',\n",
              "                                                   'YearRemodAdd', 'MasVnrArea',\n",
              "                                                   'BsmtFinSF1', 'BsmtFinSF2',\n",
              "                                                   'BsmtUnfSF', 'TotalBsmtSF',\n",
              "                                                   '1stFlrSF', '2ndFlrSF',\n",
              "                                                   'LowQualFinSF', 'GrLivArea',\n",
              "                                                   'BsmtFullBath',\n",
              "                                                   'BsmtHalfBath', 'FullBath',\n",
              "                                                   'HalfBath', '...\n",
              "                                                      'YearRemodAdd',\n",
              "                                                      'MasVnrArea',\n",
              "                                                      'BsmtFinSF1',\n",
              "                                                      'BsmtFinSF2', 'BsmtUnfSF',\n",
              "                                                      'TotalBsmtSF', '1stFlrSF',\n",
              "                                                      '2ndFlrSF',\n",
              "                                                      'LowQualFinSF',\n",
              "                                                      'GrLivArea',\n",
              "                                                      'BsmtFullBath',\n",
              "                                                      'BsmtHalfBath',\n",
              "                                                      'FullBath', 'HalfBath',\n",
              "                                                      'BedroomAbvGr',\n",
              "                                                      'KitchenAbvGr',\n",
              "                                                      'TotRmsAbvGrd',\n",
              "                                                      'Fireplaces',\n",
              "                                                      'GarageYrBlt',\n",
              "                                                      'GarageCars',\n",
              "                                                      'GarageArea',\n",
              "                                                      'WoodDeckSF',\n",
              "                                                      'OpenPorchSF',\n",
              "                                                      'EnclosedPorch', ...])),\n",
              "                ('rf', RandomForestRegressor())])"
            ],
            "text/html": [
              "<style>#sk-container-id-4 {color: black;background-color: white;}#sk-container-id-4 pre{padding: 0;}#sk-container-id-4 div.sk-toggleable {background-color: white;}#sk-container-id-4 label.sk-toggleable__label {cursor: pointer;display: block;width: 100%;margin-bottom: 0;padding: 0.3em;box-sizing: border-box;text-align: center;}#sk-container-id-4 label.sk-toggleable__label-arrow:before {content: \"▸\";float: left;margin-right: 0.25em;color: #696969;}#sk-container-id-4 label.sk-toggleable__label-arrow:hover:before {color: black;}#sk-container-id-4 div.sk-estimator:hover label.sk-toggleable__label-arrow:before {color: black;}#sk-container-id-4 div.sk-toggleable__content {max-height: 0;max-width: 0;overflow: hidden;text-align: left;background-color: #f0f8ff;}#sk-container-id-4 div.sk-toggleable__content pre {margin: 0.2em;color: black;border-radius: 0.25em;background-color: #f0f8ff;}#sk-container-id-4 input.sk-toggleable__control:checked~div.sk-toggleable__content {max-height: 200px;max-width: 100%;overflow: auto;}#sk-container-id-4 input.sk-toggleable__control:checked~label.sk-toggleable__label-arrow:before {content: \"▾\";}#sk-container-id-4 div.sk-estimator input.sk-toggleable__control:checked~label.sk-toggleable__label {background-color: #d4ebff;}#sk-container-id-4 div.sk-label input.sk-toggleable__control:checked~label.sk-toggleable__label {background-color: #d4ebff;}#sk-container-id-4 input.sk-hidden--visually {border: 0;clip: rect(1px 1px 1px 1px);clip: rect(1px, 1px, 1px, 1px);height: 1px;margin: -1px;overflow: hidden;padding: 0;position: absolute;width: 1px;}#sk-container-id-4 div.sk-estimator {font-family: monospace;background-color: #f0f8ff;border: 1px dotted black;border-radius: 0.25em;box-sizing: border-box;margin-bottom: 0.5em;}#sk-container-id-4 div.sk-estimator:hover {background-color: #d4ebff;}#sk-container-id-4 div.sk-parallel-item::after {content: \"\";width: 100%;border-bottom: 1px solid gray;flex-grow: 1;}#sk-container-id-4 div.sk-label:hover label.sk-toggleable__label {background-color: #d4ebff;}#sk-container-id-4 div.sk-serial::before {content: \"\";position: absolute;border-left: 1px solid gray;box-sizing: border-box;top: 0;bottom: 0;left: 50%;z-index: 0;}#sk-container-id-4 div.sk-serial {display: flex;flex-direction: column;align-items: center;background-color: white;padding-right: 0.2em;padding-left: 0.2em;position: relative;}#sk-container-id-4 div.sk-item {position: relative;z-index: 1;}#sk-container-id-4 div.sk-parallel {display: flex;align-items: stretch;justify-content: center;background-color: white;position: relative;}#sk-container-id-4 div.sk-item::before, #sk-container-id-4 div.sk-parallel-item::before {content: \"\";position: absolute;border-left: 1px solid gray;box-sizing: border-box;top: 0;bottom: 0;left: 50%;z-index: -1;}#sk-container-id-4 div.sk-parallel-item {display: flex;flex-direction: column;z-index: 1;position: relative;background-color: white;}#sk-container-id-4 div.sk-parallel-item:first-child::after {align-self: flex-end;width: 50%;}#sk-container-id-4 div.sk-parallel-item:last-child::after {align-self: flex-start;width: 50%;}#sk-container-id-4 div.sk-parallel-item:only-child::after {width: 0;}#sk-container-id-4 div.sk-dashed-wrapped {border: 1px dashed gray;margin: 0 0.4em 0.5em 0.4em;box-sizing: border-box;padding-bottom: 0.4em;background-color: white;}#sk-container-id-4 div.sk-label label {font-family: monospace;font-weight: bold;display: inline-block;line-height: 1.2em;}#sk-container-id-4 div.sk-label-container {text-align: center;}#sk-container-id-4 div.sk-container {/* jupyter's `normalize.less` sets `[hidden] { display: none; }` but bootstrap.min.css set `[hidden] { display: none !important; }` so we also need the `!important` here to be able to override the default hidden behavior on the sphinx rendered scikit-learn.org. See: https://github.com/scikit-learn/scikit-learn/issues/21755 */display: inline-block !important;position: relative;}#sk-container-id-4 div.sk-text-repr-fallback {display: none;}</style><div id=\"sk-container-id-4\" class=\"sk-top-container\"><div class=\"sk-text-repr-fallback\"><pre>Pipeline(steps=[(&#x27;numeric_imputer&#x27;,\n",
              "                 ArbitraryNumberImputer(arbitrary_number=-999,\n",
              "                                        variables=[&#x27;MSSubClass&#x27;, &#x27;LotFrontage&#x27;,\n",
              "                                                   &#x27;LotArea&#x27;, &#x27;OverallQual&#x27;,\n",
              "                                                   &#x27;OverallCond&#x27;, &#x27;YearBuilt&#x27;,\n",
              "                                                   &#x27;YearRemodAdd&#x27;, &#x27;MasVnrArea&#x27;,\n",
              "                                                   &#x27;BsmtFinSF1&#x27;, &#x27;BsmtFinSF2&#x27;,\n",
              "                                                   &#x27;BsmtUnfSF&#x27;, &#x27;TotalBsmtSF&#x27;,\n",
              "                                                   &#x27;1stFlrSF&#x27;, &#x27;2ndFlrSF&#x27;,\n",
              "                                                   &#x27;LowQualFinSF&#x27;, &#x27;GrLivArea&#x27;,\n",
              "                                                   &#x27;BsmtFullBath&#x27;,\n",
              "                                                   &#x27;BsmtHalfBath&#x27;, &#x27;FullBath&#x27;,\n",
              "                                                   &#x27;HalfBath&#x27;, &#x27;...\n",
              "                                                      &#x27;YearRemodAdd&#x27;,\n",
              "                                                      &#x27;MasVnrArea&#x27;,\n",
              "                                                      &#x27;BsmtFinSF1&#x27;,\n",
              "                                                      &#x27;BsmtFinSF2&#x27;, &#x27;BsmtUnfSF&#x27;,\n",
              "                                                      &#x27;TotalBsmtSF&#x27;, &#x27;1stFlrSF&#x27;,\n",
              "                                                      &#x27;2ndFlrSF&#x27;,\n",
              "                                                      &#x27;LowQualFinSF&#x27;,\n",
              "                                                      &#x27;GrLivArea&#x27;,\n",
              "                                                      &#x27;BsmtFullBath&#x27;,\n",
              "                                                      &#x27;BsmtHalfBath&#x27;,\n",
              "                                                      &#x27;FullBath&#x27;, &#x27;HalfBath&#x27;,\n",
              "                                                      &#x27;BedroomAbvGr&#x27;,\n",
              "                                                      &#x27;KitchenAbvGr&#x27;,\n",
              "                                                      &#x27;TotRmsAbvGrd&#x27;,\n",
              "                                                      &#x27;Fireplaces&#x27;,\n",
              "                                                      &#x27;GarageYrBlt&#x27;,\n",
              "                                                      &#x27;GarageCars&#x27;,\n",
              "                                                      &#x27;GarageArea&#x27;,\n",
              "                                                      &#x27;WoodDeckSF&#x27;,\n",
              "                                                      &#x27;OpenPorchSF&#x27;,\n",
              "                                                      &#x27;EnclosedPorch&#x27;, ...])),\n",
              "                (&#x27;rf&#x27;, RandomForestRegressor())])</pre><b>In a Jupyter environment, please rerun this cell to show the HTML representation or trust the notebook. <br />On GitHub, the HTML representation is unable to render, please try loading this page with nbviewer.org.</b></div><div class=\"sk-container\" hidden><div class=\"sk-item sk-dashed-wrapped\"><div class=\"sk-label-container\"><div class=\"sk-label sk-toggleable\"><input class=\"sk-toggleable__control sk-hidden--visually\" id=\"sk-estimator-id-19\" type=\"checkbox\" ><label for=\"sk-estimator-id-19\" class=\"sk-toggleable__label sk-toggleable__label-arrow\">Pipeline</label><div class=\"sk-toggleable__content\"><pre>Pipeline(steps=[(&#x27;numeric_imputer&#x27;,\n",
              "                 ArbitraryNumberImputer(arbitrary_number=-999,\n",
              "                                        variables=[&#x27;MSSubClass&#x27;, &#x27;LotFrontage&#x27;,\n",
              "                                                   &#x27;LotArea&#x27;, &#x27;OverallQual&#x27;,\n",
              "                                                   &#x27;OverallCond&#x27;, &#x27;YearBuilt&#x27;,\n",
              "                                                   &#x27;YearRemodAdd&#x27;, &#x27;MasVnrArea&#x27;,\n",
              "                                                   &#x27;BsmtFinSF1&#x27;, &#x27;BsmtFinSF2&#x27;,\n",
              "                                                   &#x27;BsmtUnfSF&#x27;, &#x27;TotalBsmtSF&#x27;,\n",
              "                                                   &#x27;1stFlrSF&#x27;, &#x27;2ndFlrSF&#x27;,\n",
              "                                                   &#x27;LowQualFinSF&#x27;, &#x27;GrLivArea&#x27;,\n",
              "                                                   &#x27;BsmtFullBath&#x27;,\n",
              "                                                   &#x27;BsmtHalfBath&#x27;, &#x27;FullBath&#x27;,\n",
              "                                                   &#x27;HalfBath&#x27;, &#x27;...\n",
              "                                                      &#x27;YearRemodAdd&#x27;,\n",
              "                                                      &#x27;MasVnrArea&#x27;,\n",
              "                                                      &#x27;BsmtFinSF1&#x27;,\n",
              "                                                      &#x27;BsmtFinSF2&#x27;, &#x27;BsmtUnfSF&#x27;,\n",
              "                                                      &#x27;TotalBsmtSF&#x27;, &#x27;1stFlrSF&#x27;,\n",
              "                                                      &#x27;2ndFlrSF&#x27;,\n",
              "                                                      &#x27;LowQualFinSF&#x27;,\n",
              "                                                      &#x27;GrLivArea&#x27;,\n",
              "                                                      &#x27;BsmtFullBath&#x27;,\n",
              "                                                      &#x27;BsmtHalfBath&#x27;,\n",
              "                                                      &#x27;FullBath&#x27;, &#x27;HalfBath&#x27;,\n",
              "                                                      &#x27;BedroomAbvGr&#x27;,\n",
              "                                                      &#x27;KitchenAbvGr&#x27;,\n",
              "                                                      &#x27;TotRmsAbvGrd&#x27;,\n",
              "                                                      &#x27;Fireplaces&#x27;,\n",
              "                                                      &#x27;GarageYrBlt&#x27;,\n",
              "                                                      &#x27;GarageCars&#x27;,\n",
              "                                                      &#x27;GarageArea&#x27;,\n",
              "                                                      &#x27;WoodDeckSF&#x27;,\n",
              "                                                      &#x27;OpenPorchSF&#x27;,\n",
              "                                                      &#x27;EnclosedPorch&#x27;, ...])),\n",
              "                (&#x27;rf&#x27;, RandomForestRegressor())])</pre></div></div></div><div class=\"sk-serial\"><div class=\"sk-item\"><div class=\"sk-estimator sk-toggleable\"><input class=\"sk-toggleable__control sk-hidden--visually\" id=\"sk-estimator-id-20\" type=\"checkbox\" ><label for=\"sk-estimator-id-20\" class=\"sk-toggleable__label sk-toggleable__label-arrow\">ArbitraryNumberImputer</label><div class=\"sk-toggleable__content\"><pre>ArbitraryNumberImputer(arbitrary_number=-999,\n",
              "                       variables=[&#x27;MSSubClass&#x27;, &#x27;LotFrontage&#x27;, &#x27;LotArea&#x27;,\n",
              "                                  &#x27;OverallQual&#x27;, &#x27;OverallCond&#x27;, &#x27;YearBuilt&#x27;,\n",
              "                                  &#x27;YearRemodAdd&#x27;, &#x27;MasVnrArea&#x27;, &#x27;BsmtFinSF1&#x27;,\n",
              "                                  &#x27;BsmtFinSF2&#x27;, &#x27;BsmtUnfSF&#x27;, &#x27;TotalBsmtSF&#x27;,\n",
              "                                  &#x27;1stFlrSF&#x27;, &#x27;2ndFlrSF&#x27;, &#x27;LowQualFinSF&#x27;,\n",
              "                                  &#x27;GrLivArea&#x27;, &#x27;BsmtFullBath&#x27;, &#x27;BsmtHalfBath&#x27;,\n",
              "                                  &#x27;FullBath&#x27;, &#x27;HalfBath&#x27;, &#x27;BedroomAbvGr&#x27;,\n",
              "                                  &#x27;KitchenAbvGr&#x27;, &#x27;TotRmsAbvGrd&#x27;, &#x27;Fireplaces&#x27;,\n",
              "                                  &#x27;GarageYrBlt&#x27;, &#x27;GarageCars&#x27;, &#x27;GarageArea&#x27;,\n",
              "                                  &#x27;WoodDeckSF&#x27;, &#x27;OpenPorchSF&#x27;, &#x27;EnclosedPorch&#x27;, ...])</pre></div></div></div><div class=\"sk-item sk-dashed-wrapped\"><div class=\"sk-label-container\"><div class=\"sk-label sk-toggleable\"><input class=\"sk-toggleable__control sk-hidden--visually\" id=\"sk-estimator-id-21\" type=\"checkbox\" ><label for=\"sk-estimator-id-21\" class=\"sk-toggleable__label sk-toggleable__label-arrow\">scale: SklearnTransformerWrapper</label><div class=\"sk-toggleable__content\"><pre>SklearnTransformerWrapper(transformer=StandardScaler(),\n",
              "                          variables=[&#x27;MSSubClass&#x27;, &#x27;LotFrontage&#x27;, &#x27;LotArea&#x27;,\n",
              "                                     &#x27;OverallQual&#x27;, &#x27;OverallCond&#x27;, &#x27;YearBuilt&#x27;,\n",
              "                                     &#x27;YearRemodAdd&#x27;, &#x27;MasVnrArea&#x27;, &#x27;BsmtFinSF1&#x27;,\n",
              "                                     &#x27;BsmtFinSF2&#x27;, &#x27;BsmtUnfSF&#x27;, &#x27;TotalBsmtSF&#x27;,\n",
              "                                     &#x27;1stFlrSF&#x27;, &#x27;2ndFlrSF&#x27;, &#x27;LowQualFinSF&#x27;,\n",
              "                                     &#x27;GrLivArea&#x27;, &#x27;BsmtFullBath&#x27;,\n",
              "                                     &#x27;BsmtHalfBath&#x27;, &#x27;FullBath&#x27;, &#x27;HalfBath&#x27;,\n",
              "                                     &#x27;BedroomAbvGr&#x27;, &#x27;KitchenAbvGr&#x27;,\n",
              "                                     &#x27;TotRmsAbvGrd&#x27;, &#x27;Fireplaces&#x27;,\n",
              "                                     &#x27;GarageYrBlt&#x27;, &#x27;GarageCars&#x27;, &#x27;GarageArea&#x27;,\n",
              "                                     &#x27;WoodDeckSF&#x27;, &#x27;OpenPorchSF&#x27;,\n",
              "                                     &#x27;EnclosedPorch&#x27;, ...])</pre></div></div></div><div class=\"sk-parallel\"><div class=\"sk-parallel-item\"><div class=\"sk-item\"><div class=\"sk-label-container\"><div class=\"sk-label sk-toggleable\"><input class=\"sk-toggleable__control sk-hidden--visually\" id=\"sk-estimator-id-22\" type=\"checkbox\" ><label for=\"sk-estimator-id-22\" class=\"sk-toggleable__label sk-toggleable__label-arrow\">transformer: StandardScaler</label><div class=\"sk-toggleable__content\"><pre>StandardScaler()</pre></div></div></div><div class=\"sk-serial\"><div class=\"sk-item\"><div class=\"sk-estimator sk-toggleable\"><input class=\"sk-toggleable__control sk-hidden--visually\" id=\"sk-estimator-id-23\" type=\"checkbox\" ><label for=\"sk-estimator-id-23\" class=\"sk-toggleable__label sk-toggleable__label-arrow\">StandardScaler</label><div class=\"sk-toggleable__content\"><pre>StandardScaler()</pre></div></div></div></div></div></div></div></div><div class=\"sk-item\"><div class=\"sk-estimator sk-toggleable\"><input class=\"sk-toggleable__control sk-hidden--visually\" id=\"sk-estimator-id-24\" type=\"checkbox\" ><label for=\"sk-estimator-id-24\" class=\"sk-toggleable__label sk-toggleable__label-arrow\">RandomForestRegressor</label><div class=\"sk-toggleable__content\"><pre>RandomForestRegressor()</pre></div></div></div></div></div></div></div>"
            ]
          },
          "metadata": {},
          "execution_count": 74
        }
      ]
    },
    {
      "cell_type": "code",
      "source": [
        "rf_y_previsto = model_rf.predict(X_teste)"
      ],
      "metadata": {
        "id": "3k_91IbJs8zf"
      },
      "execution_count": 75,
      "outputs": []
    },
    {
      "cell_type": "code",
      "source": [
        "#MAPE\n",
        "#Erro médio absoluto em percentual, o quanto o modelo esta errando\n",
        "\n",
        "from sklearn.metrics import mean_absolute_percentage_error\n",
        "MAPE_noteste = mean_absolute_percentage_error(y_teste, rf_y_previsto)\n",
        "#MAPE_notreino = mean_absolute_percentage_error(y_train, y_previsto_train)\n",
        "print(f\"MAPE no teste {MAPE_noteste}\")\n",
        "#print(f\"MAPE no treino {MAPE_notreino}\")"
      ],
      "metadata": {
        "colab": {
          "base_uri": "https://localhost:8080/"
        },
        "id": "kekXrUx-tEae",
        "outputId": "32b6bc16-54e9-46cf-d652-518bd95e2bce"
      },
      "execution_count": 78,
      "outputs": [
        {
          "output_type": "stream",
          "name": "stdout",
          "text": [
            "MAPE no teste 0.10690765455698595\n"
          ]
        }
      ]
    },
    {
      "cell_type": "code",
      "source": [
        "#MAE\n",
        "# Quanto em média absoluta o modelo erra ?\n",
        "from sklearn.metrics import mean_absolute_error\n",
        "mae_noteste = mean_absolute_error(y_teste, rf_y_previsto)\n",
        "#mae_notreino = mean_absolute_error(y_train, y_previsto_train)\n",
        "print(f\"mae no teste {mae_noteste}\")\n",
        "#print(f\"mae no treino {mae_notreino}\")\n",
        "print(df[target].mean())\n",
        "print(df[target].std())"
      ],
      "metadata": {
        "colab": {
          "base_uri": "https://localhost:8080/"
        },
        "id": "a2pwhhIDtf2t",
        "outputId": "ce522f4a-8565-43df-fc11-f8ad260846d6"
      },
      "execution_count": 79,
      "outputs": [
        {
          "output_type": "stream",
          "name": "stdout",
          "text": [
            "mae no teste 17862.37761415525\n",
            "180921.19589041095\n",
            "79442.50288288662\n"
          ]
        }
      ]
    },
    {
      "cell_type": "code",
      "source": [],
      "metadata": {
        "id": "fNdCGnsbt7nS"
      },
      "execution_count": null,
      "outputs": []
    }
  ]
}